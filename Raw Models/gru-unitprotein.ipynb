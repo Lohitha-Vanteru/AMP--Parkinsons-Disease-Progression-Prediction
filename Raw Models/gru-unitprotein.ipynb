{
 "cells": [
  {
   "cell_type": "markdown",
   "id": "b129e626",
   "metadata": {
    "papermill": {
     "duration": 0.008245,
     "end_time": "2023-05-07T18:43:32.604041",
     "exception": false,
     "start_time": "2023-05-07T18:43:32.595796",
     "status": "completed"
    },
    "tags": []
   },
   "source": [
    "# Introduction\n",
    "\n",
    "* **MDS-UPDRS** - Movement Disorder Society UPDRS revision.\n",
    "    - Revised by removing all `yes` and `no` portions of the original questionaire.\n",
    "    - Currently consists of `0-4` rating scale to maintain consistency.\n",
    "\n",
    "**MDS-UPDRS consists of 4 parts:**\n",
    "\n",
    "- Part I: Non-Motor Experiences of Daily Living\n",
    "- Part II: motor Experiences of Daily Living\n",
    "- Part III: Motor Examination\n",
    "- Part IV: Motor Complications\n",
    "\n",
    "**MDS-UPDRS staging scales:**\n",
    "- Modified Hoehn and Yahr Staging\n",
    "- Modeified Schwab and England Activities on Daily Living Scale"
   ]
  },
  {
   "cell_type": "markdown",
   "id": "6fdbb2a7",
   "metadata": {
    "papermill": {
     "duration": 0.007351,
     "end_time": "2023-05-07T18:43:32.618961",
     "exception": false,
     "start_time": "2023-05-07T18:43:32.611610",
     "status": "completed"
    },
    "tags": []
   },
   "source": [
    "# Exploratory Data Analysis\n",
    "\n",
    "EDA will cover the following data:\n",
    "\n",
    "1. Clinical Data\n",
    "2. Peptide Data\n",
    "3. Protein Data"
   ]
  },
  {
   "cell_type": "markdown",
   "id": "9f490e58",
   "metadata": {
    "papermill": {
     "duration": 0.007218,
     "end_time": "2023-05-07T18:43:32.633426",
     "exception": false,
     "start_time": "2023-05-07T18:43:32.626208",
     "status": "completed"
    },
    "tags": []
   },
   "source": [
    "**Imports:**"
   ]
  },
  {
   "cell_type": "code",
   "execution_count": 1,
   "id": "0e52d53d",
   "metadata": {
    "execution": {
     "iopub.execute_input": "2023-05-07T18:43:32.650002Z",
     "iopub.status.busy": "2023-05-07T18:43:32.649614Z",
     "iopub.status.idle": "2023-05-07T18:43:33.923971Z",
     "shell.execute_reply": "2023-05-07T18:43:33.922932Z"
    },
    "papermill": {
     "duration": 1.286012,
     "end_time": "2023-05-07T18:43:33.926769",
     "exception": false,
     "start_time": "2023-05-07T18:43:32.640757",
     "status": "completed"
    },
    "tags": []
   },
   "outputs": [
    {
     "name": "stderr",
     "output_type": "stream",
     "text": [
      "/opt/conda/lib/python3.10/site-packages/scipy/__init__.py:146: UserWarning: A NumPy version >=1.16.5 and <1.23.0 is required for this version of SciPy (detected version 1.23.5\n",
      "  warnings.warn(f\"A NumPy version >={np_minversion} and <{np_maxversion}\"\n"
     ]
    }
   ],
   "source": [
    "# Imports\n",
    "import pandas as pd\n",
    "import numpy as np\n",
    "\n",
    "import seaborn as sns\n",
    "import matplotlib.pyplot as plt\n",
    "\n",
    "from sklearn import model_selection\n",
    "from sklearn import metrics"
   ]
  },
  {
   "cell_type": "markdown",
   "id": "cc3ffdc2",
   "metadata": {
    "papermill": {
     "duration": 0.008115,
     "end_time": "2023-05-07T18:43:33.945468",
     "exception": false,
     "start_time": "2023-05-07T18:43:33.937353",
     "status": "completed"
    },
    "tags": []
   },
   "source": [
    "**Read in DataFrames:**"
   ]
  },
  {
   "cell_type": "code",
   "execution_count": 2,
   "id": "a9e8def6",
   "metadata": {
    "execution": {
     "iopub.execute_input": "2023-05-07T18:43:33.962095Z",
     "iopub.status.busy": "2023-05-07T18:43:33.961814Z",
     "iopub.status.idle": "2023-05-07T18:43:35.446628Z",
     "shell.execute_reply": "2023-05-07T18:43:35.445649Z"
    },
    "papermill": {
     "duration": 1.495962,
     "end_time": "2023-05-07T18:43:35.449132",
     "exception": false,
     "start_time": "2023-05-07T18:43:33.953170",
     "status": "completed"
    },
    "tags": []
   },
   "outputs": [],
   "source": [
    "df_train_clin = pd.read_csv(\"/kaggle/input/amp-parkinsons-disease-progression-prediction/train_clinical_data.csv\")\n",
    "df_train_pept = pd.read_csv(\"/kaggle/input/amp-parkinsons-disease-progression-prediction/train_peptides.csv\")\n",
    "df_train_prot = pd.read_csv(\"/kaggle/input/amp-parkinsons-disease-progression-prediction/train_proteins.csv\")"
   ]
  },
  {
   "cell_type": "markdown",
   "id": "302f885f",
   "metadata": {
    "papermill": {
     "duration": 0.007984,
     "end_time": "2023-05-07T18:43:35.465098",
     "exception": false,
     "start_time": "2023-05-07T18:43:35.457114",
     "status": "completed"
    },
    "tags": []
   },
   "source": [
    "## Data Summary"
   ]
  },
  {
   "cell_type": "markdown",
   "id": "cf189fb9",
   "metadata": {
    "papermill": {
     "duration": 0.007699,
     "end_time": "2023-05-07T18:43:35.480729",
     "exception": false,
     "start_time": "2023-05-07T18:43:35.473030",
     "status": "completed"
    },
    "tags": []
   },
   "source": [
    "### Clincal Data"
   ]
  },
  {
   "cell_type": "code",
   "execution_count": 3,
   "id": "e9e27538",
   "metadata": {
    "execution": {
     "iopub.execute_input": "2023-05-07T18:43:35.497064Z",
     "iopub.status.busy": "2023-05-07T18:43:35.496719Z",
     "iopub.status.idle": "2023-05-07T18:43:35.520983Z",
     "shell.execute_reply": "2023-05-07T18:43:35.519211Z"
    },
    "papermill": {
     "duration": 0.034731,
     "end_time": "2023-05-07T18:43:35.523087",
     "exception": false,
     "start_time": "2023-05-07T18:43:35.488356",
     "status": "completed"
    },
    "tags": []
   },
   "outputs": [
    {
     "data": {
      "text/html": [
       "<div>\n",
       "<style scoped>\n",
       "    .dataframe tbody tr th:only-of-type {\n",
       "        vertical-align: middle;\n",
       "    }\n",
       "\n",
       "    .dataframe tbody tr th {\n",
       "        vertical-align: top;\n",
       "    }\n",
       "\n",
       "    .dataframe thead th {\n",
       "        text-align: right;\n",
       "    }\n",
       "</style>\n",
       "<table border=\"1\" class=\"dataframe\">\n",
       "  <thead>\n",
       "    <tr style=\"text-align: right;\">\n",
       "      <th></th>\n",
       "      <th>visit_id</th>\n",
       "      <th>patient_id</th>\n",
       "      <th>visit_month</th>\n",
       "      <th>updrs_1</th>\n",
       "      <th>updrs_2</th>\n",
       "      <th>updrs_3</th>\n",
       "      <th>updrs_4</th>\n",
       "      <th>upd23b_clinical_state_on_medication</th>\n",
       "    </tr>\n",
       "  </thead>\n",
       "  <tbody>\n",
       "    <tr>\n",
       "      <th>0</th>\n",
       "      <td>55_0</td>\n",
       "      <td>55</td>\n",
       "      <td>0</td>\n",
       "      <td>10.0</td>\n",
       "      <td>6.0</td>\n",
       "      <td>15.0</td>\n",
       "      <td>NaN</td>\n",
       "      <td>NaN</td>\n",
       "    </tr>\n",
       "    <tr>\n",
       "      <th>1</th>\n",
       "      <td>55_3</td>\n",
       "      <td>55</td>\n",
       "      <td>3</td>\n",
       "      <td>10.0</td>\n",
       "      <td>7.0</td>\n",
       "      <td>25.0</td>\n",
       "      <td>NaN</td>\n",
       "      <td>NaN</td>\n",
       "    </tr>\n",
       "    <tr>\n",
       "      <th>2</th>\n",
       "      <td>55_6</td>\n",
       "      <td>55</td>\n",
       "      <td>6</td>\n",
       "      <td>8.0</td>\n",
       "      <td>10.0</td>\n",
       "      <td>34.0</td>\n",
       "      <td>NaN</td>\n",
       "      <td>NaN</td>\n",
       "    </tr>\n",
       "    <tr>\n",
       "      <th>3</th>\n",
       "      <td>55_9</td>\n",
       "      <td>55</td>\n",
       "      <td>9</td>\n",
       "      <td>8.0</td>\n",
       "      <td>9.0</td>\n",
       "      <td>30.0</td>\n",
       "      <td>0.0</td>\n",
       "      <td>On</td>\n",
       "    </tr>\n",
       "    <tr>\n",
       "      <th>4</th>\n",
       "      <td>55_12</td>\n",
       "      <td>55</td>\n",
       "      <td>12</td>\n",
       "      <td>10.0</td>\n",
       "      <td>10.0</td>\n",
       "      <td>41.0</td>\n",
       "      <td>0.0</td>\n",
       "      <td>On</td>\n",
       "    </tr>\n",
       "    <tr>\n",
       "      <th>5</th>\n",
       "      <td>55_18</td>\n",
       "      <td>55</td>\n",
       "      <td>18</td>\n",
       "      <td>7.0</td>\n",
       "      <td>13.0</td>\n",
       "      <td>38.0</td>\n",
       "      <td>0.0</td>\n",
       "      <td>On</td>\n",
       "    </tr>\n",
       "    <tr>\n",
       "      <th>6</th>\n",
       "      <td>55_24</td>\n",
       "      <td>55</td>\n",
       "      <td>24</td>\n",
       "      <td>16.0</td>\n",
       "      <td>9.0</td>\n",
       "      <td>49.0</td>\n",
       "      <td>0.0</td>\n",
       "      <td>On</td>\n",
       "    </tr>\n",
       "    <tr>\n",
       "      <th>7</th>\n",
       "      <td>55_30</td>\n",
       "      <td>55</td>\n",
       "      <td>30</td>\n",
       "      <td>14.0</td>\n",
       "      <td>13.0</td>\n",
       "      <td>49.0</td>\n",
       "      <td>0.0</td>\n",
       "      <td>On</td>\n",
       "    </tr>\n",
       "    <tr>\n",
       "      <th>8</th>\n",
       "      <td>55_36</td>\n",
       "      <td>55</td>\n",
       "      <td>36</td>\n",
       "      <td>17.0</td>\n",
       "      <td>18.0</td>\n",
       "      <td>51.0</td>\n",
       "      <td>0.0</td>\n",
       "      <td>On</td>\n",
       "    </tr>\n",
       "    <tr>\n",
       "      <th>9</th>\n",
       "      <td>55_42</td>\n",
       "      <td>55</td>\n",
       "      <td>42</td>\n",
       "      <td>12.0</td>\n",
       "      <td>20.0</td>\n",
       "      <td>41.0</td>\n",
       "      <td>0.0</td>\n",
       "      <td>On</td>\n",
       "    </tr>\n",
       "  </tbody>\n",
       "</table>\n",
       "</div>"
      ],
      "text/plain": [
       "  visit_id  patient_id  visit_month  updrs_1  updrs_2  updrs_3  updrs_4  \\\n",
       "0     55_0          55            0     10.0      6.0     15.0      NaN   \n",
       "1     55_3          55            3     10.0      7.0     25.0      NaN   \n",
       "2     55_6          55            6      8.0     10.0     34.0      NaN   \n",
       "3     55_9          55            9      8.0      9.0     30.0      0.0   \n",
       "4    55_12          55           12     10.0     10.0     41.0      0.0   \n",
       "5    55_18          55           18      7.0     13.0     38.0      0.0   \n",
       "6    55_24          55           24     16.0      9.0     49.0      0.0   \n",
       "7    55_30          55           30     14.0     13.0     49.0      0.0   \n",
       "8    55_36          55           36     17.0     18.0     51.0      0.0   \n",
       "9    55_42          55           42     12.0     20.0     41.0      0.0   \n",
       "\n",
       "  upd23b_clinical_state_on_medication  \n",
       "0                                 NaN  \n",
       "1                                 NaN  \n",
       "2                                 NaN  \n",
       "3                                  On  \n",
       "4                                  On  \n",
       "5                                  On  \n",
       "6                                  On  \n",
       "7                                  On  \n",
       "8                                  On  \n",
       "9                                  On  "
      ]
     },
     "execution_count": 3,
     "metadata": {},
     "output_type": "execute_result"
    }
   ],
   "source": [
    "df_train_clin.head(10)"
   ]
  },
  {
   "cell_type": "code",
   "execution_count": 4,
   "id": "0881ca04",
   "metadata": {
    "execution": {
     "iopub.execute_input": "2023-05-07T18:43:35.540778Z",
     "iopub.status.busy": "2023-05-07T18:43:35.540516Z",
     "iopub.status.idle": "2023-05-07T18:43:35.554105Z",
     "shell.execute_reply": "2023-05-07T18:43:35.552970Z"
    },
    "papermill": {
     "duration": 0.025026,
     "end_time": "2023-05-07T18:43:35.556589",
     "exception": false,
     "start_time": "2023-05-07T18:43:35.531563",
     "status": "completed"
    },
    "tags": []
   },
   "outputs": [
    {
     "name": "stdout",
     "output_type": "stream",
     "text": [
      "Unique Clinical Data patient #: 248\n",
      "----------------------------------------------------------\n",
      "Null Values Found in Clinical Data:\n",
      "Null values found in visit_id: 0\n",
      "Null values found in patient_id: 0\n",
      "Null values found in visit_month: 0\n",
      "Null values found in updrs_1: 1\n",
      "Null values found in updrs_2: 2\n",
      "Null values found in updrs_3: 25\n",
      "Null values found in updrs_4: 1038\n",
      "Null values found in upd23b_clinical_state_on_medication: 1327\n",
      "\n"
     ]
    }
   ],
   "source": [
    "print(f'Unique Clinical Data patient #: {df_train_clin[\"patient_id\"].nunique()}')\n",
    "print(\"----------------------------------------------------------\")\n",
    "print(f'Null Values Found in Clinical Data:')\n",
    "for col in df_train_clin.columns:\n",
    "    print(f'Null values found in {col}: {df_train_clin[col].isna().sum()}')\n",
    "print('')"
   ]
  },
  {
   "cell_type": "markdown",
   "id": "8d7a6ad5",
   "metadata": {
    "papermill": {
     "duration": 0.00799,
     "end_time": "2023-05-07T18:43:35.573349",
     "exception": false,
     "start_time": "2023-05-07T18:43:35.565359",
     "status": "completed"
    },
    "tags": []
   },
   "source": [
    "### Peptide Data"
   ]
  },
  {
   "cell_type": "code",
   "execution_count": 5,
   "id": "f1509419",
   "metadata": {
    "execution": {
     "iopub.execute_input": "2023-05-07T18:43:35.590228Z",
     "iopub.status.busy": "2023-05-07T18:43:35.589966Z",
     "iopub.status.idle": "2023-05-07T18:43:35.604201Z",
     "shell.execute_reply": "2023-05-07T18:43:35.603293Z"
    },
    "papermill": {
     "duration": 0.02517,
     "end_time": "2023-05-07T18:43:35.606358",
     "exception": false,
     "start_time": "2023-05-07T18:43:35.581188",
     "status": "completed"
    },
    "tags": []
   },
   "outputs": [
    {
     "data": {
      "text/html": [
       "<div>\n",
       "<style scoped>\n",
       "    .dataframe tbody tr th:only-of-type {\n",
       "        vertical-align: middle;\n",
       "    }\n",
       "\n",
       "    .dataframe tbody tr th {\n",
       "        vertical-align: top;\n",
       "    }\n",
       "\n",
       "    .dataframe thead th {\n",
       "        text-align: right;\n",
       "    }\n",
       "</style>\n",
       "<table border=\"1\" class=\"dataframe\">\n",
       "  <thead>\n",
       "    <tr style=\"text-align: right;\">\n",
       "      <th></th>\n",
       "      <th>visit_id</th>\n",
       "      <th>visit_month</th>\n",
       "      <th>patient_id</th>\n",
       "      <th>UniProt</th>\n",
       "      <th>Peptide</th>\n",
       "      <th>PeptideAbundance</th>\n",
       "    </tr>\n",
       "  </thead>\n",
       "  <tbody>\n",
       "    <tr>\n",
       "      <th>0</th>\n",
       "      <td>55_0</td>\n",
       "      <td>0</td>\n",
       "      <td>55</td>\n",
       "      <td>O00391</td>\n",
       "      <td>NEQEQPLGQWHLS</td>\n",
       "      <td>11254.3</td>\n",
       "    </tr>\n",
       "    <tr>\n",
       "      <th>1</th>\n",
       "      <td>55_0</td>\n",
       "      <td>0</td>\n",
       "      <td>55</td>\n",
       "      <td>O00533</td>\n",
       "      <td>GNPEPTFSWTK</td>\n",
       "      <td>102060.0</td>\n",
       "    </tr>\n",
       "    <tr>\n",
       "      <th>2</th>\n",
       "      <td>55_0</td>\n",
       "      <td>0</td>\n",
       "      <td>55</td>\n",
       "      <td>O00533</td>\n",
       "      <td>IEIPSSVQQVPTIIK</td>\n",
       "      <td>174185.0</td>\n",
       "    </tr>\n",
       "    <tr>\n",
       "      <th>3</th>\n",
       "      <td>55_0</td>\n",
       "      <td>0</td>\n",
       "      <td>55</td>\n",
       "      <td>O00533</td>\n",
       "      <td>KPQSAVYSTGSNGILLC(UniMod_4)EAEGEPQPTIK</td>\n",
       "      <td>27278.9</td>\n",
       "    </tr>\n",
       "    <tr>\n",
       "      <th>4</th>\n",
       "      <td>55_0</td>\n",
       "      <td>0</td>\n",
       "      <td>55</td>\n",
       "      <td>O00533</td>\n",
       "      <td>SMEQNGPGLEYR</td>\n",
       "      <td>30838.7</td>\n",
       "    </tr>\n",
       "    <tr>\n",
       "      <th>5</th>\n",
       "      <td>55_0</td>\n",
       "      <td>0</td>\n",
       "      <td>55</td>\n",
       "      <td>O00533</td>\n",
       "      <td>TLKIENVSYQDKGNYR</td>\n",
       "      <td>23216.5</td>\n",
       "    </tr>\n",
       "    <tr>\n",
       "      <th>6</th>\n",
       "      <td>55_0</td>\n",
       "      <td>0</td>\n",
       "      <td>55</td>\n",
       "      <td>O00533</td>\n",
       "      <td>VIAVNEVGR</td>\n",
       "      <td>170878.0</td>\n",
       "    </tr>\n",
       "    <tr>\n",
       "      <th>7</th>\n",
       "      <td>55_0</td>\n",
       "      <td>0</td>\n",
       "      <td>55</td>\n",
       "      <td>O00533</td>\n",
       "      <td>VMTPAVYAPYDVK</td>\n",
       "      <td>148771.0</td>\n",
       "    </tr>\n",
       "    <tr>\n",
       "      <th>8</th>\n",
       "      <td>55_0</td>\n",
       "      <td>0</td>\n",
       "      <td>55</td>\n",
       "      <td>O00533</td>\n",
       "      <td>VNGSPVDNHPFAGDVVFPR</td>\n",
       "      <td>55202.1</td>\n",
       "    </tr>\n",
       "    <tr>\n",
       "      <th>9</th>\n",
       "      <td>55_0</td>\n",
       "      <td>0</td>\n",
       "      <td>55</td>\n",
       "      <td>O00584</td>\n",
       "      <td>ELDLNSVLLK</td>\n",
       "      <td>27229.3</td>\n",
       "    </tr>\n",
       "  </tbody>\n",
       "</table>\n",
       "</div>"
      ],
      "text/plain": [
       "  visit_id  visit_month  patient_id UniProt  \\\n",
       "0     55_0            0          55  O00391   \n",
       "1     55_0            0          55  O00533   \n",
       "2     55_0            0          55  O00533   \n",
       "3     55_0            0          55  O00533   \n",
       "4     55_0            0          55  O00533   \n",
       "5     55_0            0          55  O00533   \n",
       "6     55_0            0          55  O00533   \n",
       "7     55_0            0          55  O00533   \n",
       "8     55_0            0          55  O00533   \n",
       "9     55_0            0          55  O00584   \n",
       "\n",
       "                                  Peptide  PeptideAbundance  \n",
       "0                           NEQEQPLGQWHLS           11254.3  \n",
       "1                             GNPEPTFSWTK          102060.0  \n",
       "2                         IEIPSSVQQVPTIIK          174185.0  \n",
       "3  KPQSAVYSTGSNGILLC(UniMod_4)EAEGEPQPTIK           27278.9  \n",
       "4                            SMEQNGPGLEYR           30838.7  \n",
       "5                        TLKIENVSYQDKGNYR           23216.5  \n",
       "6                               VIAVNEVGR          170878.0  \n",
       "7                           VMTPAVYAPYDVK          148771.0  \n",
       "8                     VNGSPVDNHPFAGDVVFPR           55202.1  \n",
       "9                              ELDLNSVLLK           27229.3  "
      ]
     },
     "execution_count": 5,
     "metadata": {},
     "output_type": "execute_result"
    }
   ],
   "source": [
    "df_train_pept.head(10)"
   ]
  },
  {
   "cell_type": "code",
   "execution_count": 6,
   "id": "106afe38",
   "metadata": {
    "execution": {
     "iopub.execute_input": "2023-05-07T18:43:35.624802Z",
     "iopub.status.busy": "2023-05-07T18:43:35.624540Z",
     "iopub.status.idle": "2023-05-07T18:43:35.803697Z",
     "shell.execute_reply": "2023-05-07T18:43:35.802159Z"
    },
    "papermill": {
     "duration": 0.190457,
     "end_time": "2023-05-07T18:43:35.805766",
     "exception": false,
     "start_time": "2023-05-07T18:43:35.615309",
     "status": "completed"
    },
    "tags": []
   },
   "outputs": [
    {
     "name": "stdout",
     "output_type": "stream",
     "text": [
      "Unique Peptide Data patient #: 248\n",
      "Unique Peptides #: 968\n",
      "----------------------------------------------------------\n",
      "Null Values Found in Peptide Data:\n",
      "Null values found in visit_id: 0\n",
      "Null values found in visit_month: 0\n",
      "Null values found in patient_id: 0\n",
      "Null values found in UniProt: 0\n",
      "Null values found in Peptide: 0\n",
      "Null values found in PeptideAbundance: 0\n",
      "\n"
     ]
    }
   ],
   "source": [
    "print(f'Unique Peptide Data patient #: {df_train_pept[\"patient_id\"].nunique()}')\n",
    "print(f'Unique Peptides #: {df_train_pept[\"Peptide\"].nunique()}')\n",
    "print(\"----------------------------------------------------------\")\n",
    "print(f'Null Values Found in Peptide Data:')\n",
    "for col in df_train_pept.columns:\n",
    "    print(f'Null values found in {col}: {df_train_pept[col].isna().sum()}')\n",
    "print('')"
   ]
  },
  {
   "cell_type": "markdown",
   "id": "105a66cb",
   "metadata": {
    "papermill": {
     "duration": 0.007946,
     "end_time": "2023-05-07T18:43:35.822749",
     "exception": false,
     "start_time": "2023-05-07T18:43:35.814803",
     "status": "completed"
    },
    "tags": []
   },
   "source": [
    "### Protein Data"
   ]
  },
  {
   "cell_type": "code",
   "execution_count": 7,
   "id": "e1c83378",
   "metadata": {
    "execution": {
     "iopub.execute_input": "2023-05-07T18:43:35.841289Z",
     "iopub.status.busy": "2023-05-07T18:43:35.839791Z",
     "iopub.status.idle": "2023-05-07T18:43:35.851031Z",
     "shell.execute_reply": "2023-05-07T18:43:35.849973Z"
    },
    "papermill": {
     "duration": 0.022725,
     "end_time": "2023-05-07T18:43:35.853462",
     "exception": false,
     "start_time": "2023-05-07T18:43:35.830737",
     "status": "completed"
    },
    "tags": []
   },
   "outputs": [
    {
     "data": {
      "text/html": [
       "<div>\n",
       "<style scoped>\n",
       "    .dataframe tbody tr th:only-of-type {\n",
       "        vertical-align: middle;\n",
       "    }\n",
       "\n",
       "    .dataframe tbody tr th {\n",
       "        vertical-align: top;\n",
       "    }\n",
       "\n",
       "    .dataframe thead th {\n",
       "        text-align: right;\n",
       "    }\n",
       "</style>\n",
       "<table border=\"1\" class=\"dataframe\">\n",
       "  <thead>\n",
       "    <tr style=\"text-align: right;\">\n",
       "      <th></th>\n",
       "      <th>visit_id</th>\n",
       "      <th>visit_month</th>\n",
       "      <th>patient_id</th>\n",
       "      <th>UniProt</th>\n",
       "      <th>NPX</th>\n",
       "    </tr>\n",
       "  </thead>\n",
       "  <tbody>\n",
       "    <tr>\n",
       "      <th>0</th>\n",
       "      <td>55_0</td>\n",
       "      <td>0</td>\n",
       "      <td>55</td>\n",
       "      <td>O00391</td>\n",
       "      <td>11254.30</td>\n",
       "    </tr>\n",
       "    <tr>\n",
       "      <th>1</th>\n",
       "      <td>55_0</td>\n",
       "      <td>0</td>\n",
       "      <td>55</td>\n",
       "      <td>O00533</td>\n",
       "      <td>732430.00</td>\n",
       "    </tr>\n",
       "    <tr>\n",
       "      <th>2</th>\n",
       "      <td>55_0</td>\n",
       "      <td>0</td>\n",
       "      <td>55</td>\n",
       "      <td>O00584</td>\n",
       "      <td>39585.80</td>\n",
       "    </tr>\n",
       "    <tr>\n",
       "      <th>3</th>\n",
       "      <td>55_0</td>\n",
       "      <td>0</td>\n",
       "      <td>55</td>\n",
       "      <td>O14498</td>\n",
       "      <td>41526.90</td>\n",
       "    </tr>\n",
       "    <tr>\n",
       "      <th>4</th>\n",
       "      <td>55_0</td>\n",
       "      <td>0</td>\n",
       "      <td>55</td>\n",
       "      <td>O14773</td>\n",
       "      <td>31238.00</td>\n",
       "    </tr>\n",
       "    <tr>\n",
       "      <th>5</th>\n",
       "      <td>55_0</td>\n",
       "      <td>0</td>\n",
       "      <td>55</td>\n",
       "      <td>O14791</td>\n",
       "      <td>4202.71</td>\n",
       "    </tr>\n",
       "    <tr>\n",
       "      <th>6</th>\n",
       "      <td>55_0</td>\n",
       "      <td>0</td>\n",
       "      <td>55</td>\n",
       "      <td>O15240</td>\n",
       "      <td>177775.00</td>\n",
       "    </tr>\n",
       "    <tr>\n",
       "      <th>7</th>\n",
       "      <td>55_0</td>\n",
       "      <td>0</td>\n",
       "      <td>55</td>\n",
       "      <td>O15394</td>\n",
       "      <td>62898.20</td>\n",
       "    </tr>\n",
       "    <tr>\n",
       "      <th>8</th>\n",
       "      <td>55_0</td>\n",
       "      <td>0</td>\n",
       "      <td>55</td>\n",
       "      <td>O43505</td>\n",
       "      <td>333376.00</td>\n",
       "    </tr>\n",
       "    <tr>\n",
       "      <th>9</th>\n",
       "      <td>55_0</td>\n",
       "      <td>0</td>\n",
       "      <td>55</td>\n",
       "      <td>O60888</td>\n",
       "      <td>166850.00</td>\n",
       "    </tr>\n",
       "  </tbody>\n",
       "</table>\n",
       "</div>"
      ],
      "text/plain": [
       "  visit_id  visit_month  patient_id UniProt        NPX\n",
       "0     55_0            0          55  O00391   11254.30\n",
       "1     55_0            0          55  O00533  732430.00\n",
       "2     55_0            0          55  O00584   39585.80\n",
       "3     55_0            0          55  O14498   41526.90\n",
       "4     55_0            0          55  O14773   31238.00\n",
       "5     55_0            0          55  O14791    4202.71\n",
       "6     55_0            0          55  O15240  177775.00\n",
       "7     55_0            0          55  O15394   62898.20\n",
       "8     55_0            0          55  O43505  333376.00\n",
       "9     55_0            0          55  O60888  166850.00"
      ]
     },
     "execution_count": 7,
     "metadata": {},
     "output_type": "execute_result"
    }
   ],
   "source": [
    "df_train_prot.head(10)"
   ]
  },
  {
   "cell_type": "code",
   "execution_count": 8,
   "id": "78ef13e3",
   "metadata": {
    "execution": {
     "iopub.execute_input": "2023-05-07T18:43:35.871211Z",
     "iopub.status.busy": "2023-05-07T18:43:35.870974Z",
     "iopub.status.idle": "2023-05-07T18:43:35.906587Z",
     "shell.execute_reply": "2023-05-07T18:43:35.905401Z"
    },
    "papermill": {
     "duration": 0.046694,
     "end_time": "2023-05-07T18:43:35.908773",
     "exception": false,
     "start_time": "2023-05-07T18:43:35.862079",
     "status": "completed"
    },
    "tags": []
   },
   "outputs": [
    {
     "name": "stdout",
     "output_type": "stream",
     "text": [
      "Unique Protein Data patient #: 248\n",
      "Unique Proteins #: 227\n",
      "----------------------------------------------------------\n",
      "Null Values Found in Protein Data:\n",
      "Null values found in visit_id: 0\n",
      "Null values found in visit_month: 0\n",
      "Null values found in patient_id: 0\n",
      "Null values found in UniProt: 0\n",
      "Null values found in NPX: 0\n",
      "\n"
     ]
    }
   ],
   "source": [
    "print(f'Unique Protein Data patient #: {df_train_prot[\"patient_id\"].nunique()}')\n",
    "print(f'Unique Proteins #: {df_train_prot[\"UniProt\"].nunique()}')\n",
    "print(\"----------------------------------------------------------\")\n",
    "print(f'Null Values Found in Protein Data:')\n",
    "for col in df_train_prot.columns:\n",
    "    print(f'Null values found in {col}: {df_train_prot[col].isna().sum()}')\n",
    "print('')"
   ]
  },
  {
   "cell_type": "markdown",
   "id": "af84b418",
   "metadata": {
    "papermill": {
     "duration": 0.008066,
     "end_time": "2023-05-07T18:43:35.925084",
     "exception": false,
     "start_time": "2023-05-07T18:43:35.917018",
     "status": "completed"
    },
    "tags": []
   },
   "source": [
    "## MDS-UPDRS SCORE ANALYSIS"
   ]
  },
  {
   "cell_type": "markdown",
   "id": "552d7aaa",
   "metadata": {
    "papermill": {
     "duration": 0.008465,
     "end_time": "2023-05-07T18:43:35.941694",
     "exception": false,
     "start_time": "2023-05-07T18:43:35.933229",
     "status": "completed"
    },
    "tags": []
   },
   "source": [
    "### UPDRS_1 Score Analysis"
   ]
  },
  {
   "cell_type": "code",
   "execution_count": 9,
   "id": "9e295ee5",
   "metadata": {
    "execution": {
     "iopub.execute_input": "2023-05-07T18:43:35.959623Z",
     "iopub.status.busy": "2023-05-07T18:43:35.959372Z",
     "iopub.status.idle": "2023-05-07T18:43:36.293153Z",
     "shell.execute_reply": "2023-05-07T18:43:36.292186Z"
    },
    "papermill": {
     "duration": 0.345162,
     "end_time": "2023-05-07T18:43:36.295141",
     "exception": false,
     "start_time": "2023-05-07T18:43:35.949979",
     "status": "completed"
    },
    "tags": []
   },
   "outputs": [
    {
     "data": {
      "image/png": "[encoded data removed]",
      "text/plain": [
       "<Figure size 1000x300 with 1 Axes>"
      ]
     },
     "metadata": {},
     "output_type": "display_data"
    }
   ],
   "source": [
    "plt.figure(figsize = (10, 3))\n",
    "sns.histplot(x=df_train_clin['updrs_1'], stat='count', kde = True)\n",
    "plt.xlabel('UPDRS 1')\n",
    "plt.ylabel('COUNT')\n",
    "plt.title('UPDRS 1 SCORE (total)')\n",
    "plt.show()"
   ]
  },
  {
   "cell_type": "markdown",
   "id": "b6d24e9a",
   "metadata": {
    "papermill": {
     "duration": 0.008743,
     "end_time": "2023-05-07T18:43:36.312886",
     "exception": false,
     "start_time": "2023-05-07T18:43:36.304143",
     "status": "completed"
    },
    "tags": []
   },
   "source": [
    "**Continuing EDA Soon**"
   ]
  },
  {
   "cell_type": "markdown",
   "id": "5b2a136a",
   "metadata": {
    "papermill": {
     "duration": 0.008602,
     "end_time": "2023-05-07T18:43:36.330537",
     "exception": false,
     "start_time": "2023-05-07T18:43:36.321935",
     "status": "completed"
    },
    "tags": []
   },
   "source": [
    "## Target Preperation"
   ]
  },
  {
   "cell_type": "code",
   "execution_count": 10,
   "id": "e8344418",
   "metadata": {
    "execution": {
     "iopub.execute_input": "2023-05-07T18:43:36.349952Z",
     "iopub.status.busy": "2023-05-07T18:43:36.349653Z",
     "iopub.status.idle": "2023-05-07T18:44:01.594689Z",
     "shell.execute_reply": "2023-05-07T18:44:01.593717Z"
    },
    "papermill": {
     "duration": 25.257664,
     "end_time": "2023-05-07T18:44:01.597097",
     "exception": false,
     "start_time": "2023-05-07T18:43:36.339433",
     "status": "completed"
    },
    "tags": []
   },
   "outputs": [],
   "source": [
    "targets = {}\n",
    "for event in range(1, 5):\n",
    "    for month in [0, 6, 12, 24]:\n",
    "        df_train_clin[f'updrs_{event}_plus_{month}_months'] = 0\n",
    "\n",
    "for p_id in df_train_clin.patient_id.unique():\n",
    "    patient_data = df_train_clin[df_train_clin.patient_id == p_id]\n",
    "    month_ranges = []\n",
    "    month_intervals = [0, 6, 12, 24]\n",
    "    for visit_month in patient_data.visit_month.values:\n",
    "        month_ranges.append([visit_month, visit_month + 6, visit_month + 12, visit_month + 24])\n",
    "    for idx, month_range in enumerate(month_ranges):\n",
    "        for event in range(1, 5):\n",
    "            updrs_values = patient_data[patient_data.visit_month.isin(month_range)][f'updrs_{event}'].fillna(0).to_list()\n",
    "            if len(updrs_values) == 4:\n",
    "                for e, value in enumerate(updrs_values):\n",
    "                    m = month_range[0]\n",
    "                    patient_data.loc[patient_data.visit_month == m, [f'updrs_{event}_plus_{month_intervals[e]}_months']] = value\n",
    "            else:\n",
    "                patient_data = patient_data[~patient_data.visit_month.isin(month_range)]\n",
    "    targets[p_id] = patient_data\n"
   ]
  },
  {
   "cell_type": "code",
   "execution_count": 11,
   "id": "becb6d10",
   "metadata": {
    "execution": {
     "iopub.execute_input": "2023-05-07T18:44:01.618980Z",
     "iopub.status.busy": "2023-05-07T18:44:01.618023Z",
     "iopub.status.idle": "2023-05-07T18:44:01.674477Z",
     "shell.execute_reply": "2023-05-07T18:44:01.673480Z"
    },
    "papermill": {
     "duration": 0.068904,
     "end_time": "2023-05-07T18:44:01.676767",
     "exception": false,
     "start_time": "2023-05-07T18:44:01.607863",
     "status": "completed"
    },
    "tags": []
   },
   "outputs": [
    {
     "data": {
      "text/html": [
       "<div>\n",
       "<style scoped>\n",
       "    .dataframe tbody tr th:only-of-type {\n",
       "        vertical-align: middle;\n",
       "    }\n",
       "\n",
       "    .dataframe tbody tr th {\n",
       "        vertical-align: top;\n",
       "    }\n",
       "\n",
       "    .dataframe thead th {\n",
       "        text-align: right;\n",
       "    }\n",
       "</style>\n",
       "<table border=\"1\" class=\"dataframe\">\n",
       "  <thead>\n",
       "    <tr style=\"text-align: right;\">\n",
       "      <th></th>\n",
       "      <th>updrs_1_plus_0_months</th>\n",
       "      <th>updrs_1_plus_6_months</th>\n",
       "      <th>updrs_1_plus_12_months</th>\n",
       "      <th>updrs_1_plus_24_months</th>\n",
       "      <th>updrs_2_plus_0_months</th>\n",
       "      <th>updrs_2_plus_6_months</th>\n",
       "      <th>updrs_2_plus_12_months</th>\n",
       "      <th>updrs_2_plus_24_months</th>\n",
       "      <th>updrs_3_plus_0_months</th>\n",
       "      <th>updrs_3_plus_6_months</th>\n",
       "      <th>updrs_3_plus_12_months</th>\n",
       "      <th>updrs_3_plus_24_months</th>\n",
       "      <th>updrs_4_plus_0_months</th>\n",
       "      <th>updrs_4_plus_6_months</th>\n",
       "      <th>updrs_4_plus_12_months</th>\n",
       "      <th>updrs_4_plus_24_months</th>\n",
       "    </tr>\n",
       "    <tr>\n",
       "      <th>visit_id</th>\n",
       "      <th></th>\n",
       "      <th></th>\n",
       "      <th></th>\n",
       "      <th></th>\n",
       "      <th></th>\n",
       "      <th></th>\n",
       "      <th></th>\n",
       "      <th></th>\n",
       "      <th></th>\n",
       "      <th></th>\n",
       "      <th></th>\n",
       "      <th></th>\n",
       "      <th></th>\n",
       "      <th></th>\n",
       "      <th></th>\n",
       "      <th></th>\n",
       "    </tr>\n",
       "  </thead>\n",
       "  <tbody>\n",
       "    <tr>\n",
       "      <th>55_0</th>\n",
       "      <td>10</td>\n",
       "      <td>8</td>\n",
       "      <td>10</td>\n",
       "      <td>16</td>\n",
       "      <td>6</td>\n",
       "      <td>10</td>\n",
       "      <td>10</td>\n",
       "      <td>9</td>\n",
       "      <td>15</td>\n",
       "      <td>34</td>\n",
       "      <td>41</td>\n",
       "      <td>49</td>\n",
       "      <td>0</td>\n",
       "      <td>0</td>\n",
       "      <td>0</td>\n",
       "      <td>0</td>\n",
       "    </tr>\n",
       "    <tr>\n",
       "      <th>55_6</th>\n",
       "      <td>8</td>\n",
       "      <td>10</td>\n",
       "      <td>7</td>\n",
       "      <td>14</td>\n",
       "      <td>10</td>\n",
       "      <td>10</td>\n",
       "      <td>13</td>\n",
       "      <td>13</td>\n",
       "      <td>34</td>\n",
       "      <td>41</td>\n",
       "      <td>38</td>\n",
       "      <td>49</td>\n",
       "      <td>0</td>\n",
       "      <td>0</td>\n",
       "      <td>0</td>\n",
       "      <td>0</td>\n",
       "    </tr>\n",
       "    <tr>\n",
       "      <th>55_12</th>\n",
       "      <td>10</td>\n",
       "      <td>7</td>\n",
       "      <td>16</td>\n",
       "      <td>17</td>\n",
       "      <td>10</td>\n",
       "      <td>13</td>\n",
       "      <td>9</td>\n",
       "      <td>18</td>\n",
       "      <td>41</td>\n",
       "      <td>38</td>\n",
       "      <td>49</td>\n",
       "      <td>51</td>\n",
       "      <td>0</td>\n",
       "      <td>0</td>\n",
       "      <td>0</td>\n",
       "      <td>0</td>\n",
       "    </tr>\n",
       "    <tr>\n",
       "      <th>55_18</th>\n",
       "      <td>7</td>\n",
       "      <td>16</td>\n",
       "      <td>14</td>\n",
       "      <td>12</td>\n",
       "      <td>13</td>\n",
       "      <td>9</td>\n",
       "      <td>13</td>\n",
       "      <td>20</td>\n",
       "      <td>38</td>\n",
       "      <td>49</td>\n",
       "      <td>49</td>\n",
       "      <td>41</td>\n",
       "      <td>0</td>\n",
       "      <td>0</td>\n",
       "      <td>0</td>\n",
       "      <td>0</td>\n",
       "    </tr>\n",
       "    <tr>\n",
       "      <th>55_24</th>\n",
       "      <td>16</td>\n",
       "      <td>14</td>\n",
       "      <td>17</td>\n",
       "      <td>17</td>\n",
       "      <td>9</td>\n",
       "      <td>13</td>\n",
       "      <td>18</td>\n",
       "      <td>16</td>\n",
       "      <td>49</td>\n",
       "      <td>49</td>\n",
       "      <td>51</td>\n",
       "      <td>52</td>\n",
       "      <td>0</td>\n",
       "      <td>0</td>\n",
       "      <td>0</td>\n",
       "      <td>0</td>\n",
       "    </tr>\n",
       "  </tbody>\n",
       "</table>\n",
       "</div>"
      ],
      "text/plain": [
       "          updrs_1_plus_0_months  updrs_1_plus_6_months  \\\n",
       "visit_id                                                 \n",
       "55_0                         10                      8   \n",
       "55_6                          8                     10   \n",
       "55_12                        10                      7   \n",
       "55_18                         7                     16   \n",
       "55_24                        16                     14   \n",
       "\n",
       "          updrs_1_plus_12_months  updrs_1_plus_24_months  \\\n",
       "visit_id                                                   \n",
       "55_0                          10                      16   \n",
       "55_6                           7                      14   \n",
       "55_12                         16                      17   \n",
       "55_18                         14                      12   \n",
       "55_24                         17                      17   \n",
       "\n",
       "          updrs_2_plus_0_months  updrs_2_plus_6_months  \\\n",
       "visit_id                                                 \n",
       "55_0                          6                     10   \n",
       "55_6                         10                     10   \n",
       "55_12                        10                     13   \n",
       "55_18                        13                      9   \n",
       "55_24                         9                     13   \n",
       "\n",
       "          updrs_2_plus_12_months  updrs_2_plus_24_months  \\\n",
       "visit_id                                                   \n",
       "55_0                          10                       9   \n",
       "55_6                          13                      13   \n",
       "55_12                          9                      18   \n",
       "55_18                         13                      20   \n",
       "55_24                         18                      16   \n",
       "\n",
       "          updrs_3_plus_0_months  updrs_3_plus_6_months  \\\n",
       "visit_id                                                 \n",
       "55_0                         15                     34   \n",
       "55_6                         34                     41   \n",
       "55_12                        41                     38   \n",
       "55_18                        38                     49   \n",
       "55_24                        49                     49   \n",
       "\n",
       "          updrs_3_plus_12_months  updrs_3_plus_24_months  \\\n",
       "visit_id                                                   \n",
       "55_0                          41                      49   \n",
       "55_6                          38                      49   \n",
       "55_12                         49                      51   \n",
       "55_18                         49                      41   \n",
       "55_24                         51                      52   \n",
       "\n",
       "          updrs_4_plus_0_months  updrs_4_plus_6_months  \\\n",
       "visit_id                                                 \n",
       "55_0                          0                      0   \n",
       "55_6                          0                      0   \n",
       "55_12                         0                      0   \n",
       "55_18                         0                      0   \n",
       "55_24                         0                      0   \n",
       "\n",
       "          updrs_4_plus_12_months  updrs_4_plus_24_months  \n",
       "visit_id                                                  \n",
       "55_0                           0                       0  \n",
       "55_6                           0                       0  \n",
       "55_12                          0                       0  \n",
       "55_18                          0                       0  \n",
       "55_24                          0                       0  "
      ]
     },
     "execution_count": 11,
     "metadata": {},
     "output_type": "execute_result"
    }
   ],
   "source": [
    "formatted_clin = pd.concat(targets.values(), ignore_index=True).set_index('visit_id').iloc[:, 7:]\n",
    "formatted_clin.head()"
   ]
  },
  {
   "cell_type": "markdown",
   "id": "8c25d0a0",
   "metadata": {
    "papermill": {
     "duration": 0.008786,
     "end_time": "2023-05-07T18:44:01.695714",
     "exception": false,
     "start_time": "2023-05-07T18:44:01.686928",
     "status": "completed"
    },
    "tags": []
   },
   "source": [
    "## Feature Preperation"
   ]
  },
  {
   "cell_type": "code",
   "execution_count": 12,
   "id": "581f324f",
   "metadata": {
    "execution": {
     "iopub.execute_input": "2023-05-07T18:44:01.715479Z",
     "iopub.status.busy": "2023-05-07T18:44:01.715176Z",
     "iopub.status.idle": "2023-05-07T18:44:01.817550Z",
     "shell.execute_reply": "2023-05-07T18:44:01.816350Z"
    },
    "papermill": {
     "duration": 0.115648,
     "end_time": "2023-05-07T18:44:01.820812",
     "exception": false,
     "start_time": "2023-05-07T18:44:01.705164",
     "status": "completed"
    },
    "tags": []
   },
   "outputs": [
    {
     "data": {
      "text/html": [
       "<div>\n",
       "<style scoped>\n",
       "    .dataframe tbody tr th:only-of-type {\n",
       "        vertical-align: middle;\n",
       "    }\n",
       "\n",
       "    .dataframe tbody tr th {\n",
       "        vertical-align: top;\n",
       "    }\n",
       "\n",
       "    .dataframe thead th {\n",
       "        text-align: right;\n",
       "    }\n",
       "</style>\n",
       "<table border=\"1\" class=\"dataframe\">\n",
       "  <thead>\n",
       "    <tr style=\"text-align: right;\">\n",
       "      <th>UniProt</th>\n",
       "      <th>O00391</th>\n",
       "      <th>O00533</th>\n",
       "      <th>O00584</th>\n",
       "      <th>O14498</th>\n",
       "      <th>O14773</th>\n",
       "      <th>O14791</th>\n",
       "      <th>O15240</th>\n",
       "      <th>O15394</th>\n",
       "      <th>O43505</th>\n",
       "      <th>O60888</th>\n",
       "      <th>...</th>\n",
       "      <th>Q9HDC9</th>\n",
       "      <th>Q9NQ79</th>\n",
       "      <th>Q9NYU2</th>\n",
       "      <th>Q9UBR2</th>\n",
       "      <th>Q9UBX5</th>\n",
       "      <th>Q9UHG2</th>\n",
       "      <th>Q9UKV8</th>\n",
       "      <th>Q9UNU6</th>\n",
       "      <th>Q9Y646</th>\n",
       "      <th>Q9Y6R7</th>\n",
       "    </tr>\n",
       "    <tr>\n",
       "      <th>visit_id</th>\n",
       "      <th></th>\n",
       "      <th></th>\n",
       "      <th></th>\n",
       "      <th></th>\n",
       "      <th></th>\n",
       "      <th></th>\n",
       "      <th></th>\n",
       "      <th></th>\n",
       "      <th></th>\n",
       "      <th></th>\n",
       "      <th></th>\n",
       "      <th></th>\n",
       "      <th></th>\n",
       "      <th></th>\n",
       "      <th></th>\n",
       "      <th></th>\n",
       "      <th></th>\n",
       "      <th></th>\n",
       "      <th></th>\n",
       "      <th></th>\n",
       "      <th></th>\n",
       "    </tr>\n",
       "  </thead>\n",
       "  <tbody>\n",
       "    <tr>\n",
       "      <th>10053_0</th>\n",
       "      <td>9104.27</td>\n",
       "      <td>402321.0</td>\n",
       "      <td>NaN</td>\n",
       "      <td>NaN</td>\n",
       "      <td>7150.57</td>\n",
       "      <td>2497.84</td>\n",
       "      <td>83002.9</td>\n",
       "      <td>15113.6</td>\n",
       "      <td>167327.0</td>\n",
       "      <td>129048.0</td>\n",
       "      <td>...</td>\n",
       "      <td>NaN</td>\n",
       "      <td>9469.45</td>\n",
       "      <td>94237.6</td>\n",
       "      <td>NaN</td>\n",
       "      <td>23016.0</td>\n",
       "      <td>177983.0</td>\n",
       "      <td>65900.0</td>\n",
       "      <td>15382.0</td>\n",
       "      <td>NaN</td>\n",
       "      <td>19017.40</td>\n",
       "    </tr>\n",
       "    <tr>\n",
       "      <th>10053_12</th>\n",
       "      <td>10464.20</td>\n",
       "      <td>435586.0</td>\n",
       "      <td>NaN</td>\n",
       "      <td>NaN</td>\n",
       "      <td>NaN</td>\n",
       "      <td>NaN</td>\n",
       "      <td>197117.0</td>\n",
       "      <td>15099.1</td>\n",
       "      <td>164268.0</td>\n",
       "      <td>108114.0</td>\n",
       "      <td>...</td>\n",
       "      <td>NaN</td>\n",
       "      <td>14408.40</td>\n",
       "      <td>NaN</td>\n",
       "      <td>NaN</td>\n",
       "      <td>28537.0</td>\n",
       "      <td>171733.0</td>\n",
       "      <td>65668.1</td>\n",
       "      <td>NaN</td>\n",
       "      <td>9295.65</td>\n",
       "      <td>25697.80</td>\n",
       "    </tr>\n",
       "    <tr>\n",
       "      <th>10053_18</th>\n",
       "      <td>13235.70</td>\n",
       "      <td>507386.0</td>\n",
       "      <td>7126.96</td>\n",
       "      <td>24525.7</td>\n",
       "      <td>NaN</td>\n",
       "      <td>2372.71</td>\n",
       "      <td>126506.0</td>\n",
       "      <td>16289.6</td>\n",
       "      <td>168107.0</td>\n",
       "      <td>163776.0</td>\n",
       "      <td>...</td>\n",
       "      <td>317477.0</td>\n",
       "      <td>38667.20</td>\n",
       "      <td>111107.0</td>\n",
       "      <td>NaN</td>\n",
       "      <td>37932.6</td>\n",
       "      <td>245188.0</td>\n",
       "      <td>59986.1</td>\n",
       "      <td>10813.3</td>\n",
       "      <td>NaN</td>\n",
       "      <td>29102.70</td>\n",
       "    </tr>\n",
       "    <tr>\n",
       "      <th>10138_12</th>\n",
       "      <td>12600.20</td>\n",
       "      <td>494581.0</td>\n",
       "      <td>9165.06</td>\n",
       "      <td>27193.5</td>\n",
       "      <td>22506.10</td>\n",
       "      <td>6015.90</td>\n",
       "      <td>156313.0</td>\n",
       "      <td>54546.4</td>\n",
       "      <td>204013.0</td>\n",
       "      <td>56725.0</td>\n",
       "      <td>...</td>\n",
       "      <td>557904.0</td>\n",
       "      <td>44556.90</td>\n",
       "      <td>155619.0</td>\n",
       "      <td>14647.9</td>\n",
       "      <td>36927.7</td>\n",
       "      <td>229232.0</td>\n",
       "      <td>106564.0</td>\n",
       "      <td>26077.7</td>\n",
       "      <td>21441.80</td>\n",
       "      <td>7642.42</td>\n",
       "    </tr>\n",
       "    <tr>\n",
       "      <th>10138_24</th>\n",
       "      <td>12003.20</td>\n",
       "      <td>522138.0</td>\n",
       "      <td>4498.51</td>\n",
       "      <td>17189.8</td>\n",
       "      <td>29112.40</td>\n",
       "      <td>2665.15</td>\n",
       "      <td>151169.0</td>\n",
       "      <td>52338.1</td>\n",
       "      <td>240892.0</td>\n",
       "      <td>85767.1</td>\n",
       "      <td>...</td>\n",
       "      <td>NaN</td>\n",
       "      <td>47836.70</td>\n",
       "      <td>177619.0</td>\n",
       "      <td>17061.1</td>\n",
       "      <td>25510.4</td>\n",
       "      <td>176722.0</td>\n",
       "      <td>59471.4</td>\n",
       "      <td>12639.2</td>\n",
       "      <td>15091.40</td>\n",
       "      <td>6168.55</td>\n",
       "    </tr>\n",
       "  </tbody>\n",
       "</table>\n",
       "<p>5 rows × 227 columns</p>\n",
       "</div>"
      ],
      "text/plain": [
       "UniProt     O00391    O00533   O00584   O14498    O14773   O14791    O15240  \\\n",
       "visit_id                                                                      \n",
       "10053_0    9104.27  402321.0      NaN      NaN   7150.57  2497.84   83002.9   \n",
       "10053_12  10464.20  435586.0      NaN      NaN       NaN      NaN  197117.0   \n",
       "10053_18  13235.70  507386.0  7126.96  24525.7       NaN  2372.71  126506.0   \n",
       "10138_12  12600.20  494581.0  9165.06  27193.5  22506.10  6015.90  156313.0   \n",
       "10138_24  12003.20  522138.0  4498.51  17189.8  29112.40  2665.15  151169.0   \n",
       "\n",
       "UniProt    O15394    O43505    O60888  ...    Q9HDC9    Q9NQ79    Q9NYU2  \\\n",
       "visit_id                               ...                                 \n",
       "10053_0   15113.6  167327.0  129048.0  ...       NaN   9469.45   94237.6   \n",
       "10053_12  15099.1  164268.0  108114.0  ...       NaN  14408.40       NaN   \n",
       "10053_18  16289.6  168107.0  163776.0  ...  317477.0  38667.20  111107.0   \n",
       "10138_12  54546.4  204013.0   56725.0  ...  557904.0  44556.90  155619.0   \n",
       "10138_24  52338.1  240892.0   85767.1  ...       NaN  47836.70  177619.0   \n",
       "\n",
       "UniProt    Q9UBR2   Q9UBX5    Q9UHG2    Q9UKV8   Q9UNU6    Q9Y646    Q9Y6R7  \n",
       "visit_id                                                                     \n",
       "10053_0       NaN  23016.0  177983.0   65900.0  15382.0       NaN  19017.40  \n",
       "10053_12      NaN  28537.0  171733.0   65668.1      NaN   9295.65  25697.80  \n",
       "10053_18      NaN  37932.6  245188.0   59986.1  10813.3       NaN  29102.70  \n",
       "10138_12  14647.9  36927.7  229232.0  106564.0  26077.7  21441.80   7642.42  \n",
       "10138_24  17061.1  25510.4  176722.0   59471.4  12639.2  15091.40   6168.55  \n",
       "\n",
       "[5 rows x 227 columns]"
      ]
     },
     "execution_count": 12,
     "metadata": {},
     "output_type": "execute_result"
    }
   ],
   "source": [
    "protfeatures = df_train_prot.pivot(index='visit_id', columns='UniProt', values='NPX')\n",
    "protfeatures.head()"
   ]
  },
  {
   "cell_type": "markdown",
   "id": "fb5ad46a",
   "metadata": {
    "papermill": {
     "duration": 0.009995,
     "end_time": "2023-05-07T18:44:01.841674",
     "exception": false,
     "start_time": "2023-05-07T18:44:01.831679",
     "status": "completed"
    },
    "tags": []
   },
   "source": [
    "**Peptide features coming soon**"
   ]
  },
  {
   "cell_type": "code",
   "execution_count": 13,
   "id": "79ace720",
   "metadata": {
    "execution": {
     "iopub.execute_input": "2023-05-07T18:44:01.862780Z",
     "iopub.status.busy": "2023-05-07T18:44:01.861891Z",
     "iopub.status.idle": "2023-05-07T18:44:01.892932Z",
     "shell.execute_reply": "2023-05-07T18:44:01.891868Z"
    },
    "papermill": {
     "duration": 0.044167,
     "end_time": "2023-05-07T18:44:01.895521",
     "exception": false,
     "start_time": "2023-05-07T18:44:01.851354",
     "status": "completed"
    },
    "tags": []
   },
   "outputs": [
    {
     "name": "stdout",
     "output_type": "stream",
     "text": [
      "\n",
      "NA values: 53.64%\n"
     ]
    },
    {
     "data": {
      "text/html": [
       "<div>\n",
       "<style scoped>\n",
       "    .dataframe tbody tr th:only-of-type {\n",
       "        vertical-align: middle;\n",
       "    }\n",
       "\n",
       "    .dataframe tbody tr th {\n",
       "        vertical-align: top;\n",
       "    }\n",
       "\n",
       "    .dataframe thead th {\n",
       "        text-align: right;\n",
       "    }\n",
       "</style>\n",
       "<table border=\"1\" class=\"dataframe\">\n",
       "  <thead>\n",
       "    <tr style=\"text-align: right;\">\n",
       "      <th></th>\n",
       "      <th>O00391</th>\n",
       "      <th>O00533</th>\n",
       "      <th>O00584</th>\n",
       "      <th>O14498</th>\n",
       "      <th>O14773</th>\n",
       "      <th>O14791</th>\n",
       "      <th>O15240</th>\n",
       "      <th>O15394</th>\n",
       "      <th>O43505</th>\n",
       "      <th>O60888</th>\n",
       "      <th>...</th>\n",
       "      <th>updrs_2_plus_24_months</th>\n",
       "      <th>updrs_3_plus_0_months</th>\n",
       "      <th>updrs_3_plus_6_months</th>\n",
       "      <th>updrs_3_plus_12_months</th>\n",
       "      <th>updrs_3_plus_24_months</th>\n",
       "      <th>updrs_4_plus_0_months</th>\n",
       "      <th>updrs_4_plus_6_months</th>\n",
       "      <th>updrs_4_plus_12_months</th>\n",
       "      <th>updrs_4_plus_24_months</th>\n",
       "      <th>visit_month</th>\n",
       "    </tr>\n",
       "    <tr>\n",
       "      <th>visit_id</th>\n",
       "      <th></th>\n",
       "      <th></th>\n",
       "      <th></th>\n",
       "      <th></th>\n",
       "      <th></th>\n",
       "      <th></th>\n",
       "      <th></th>\n",
       "      <th></th>\n",
       "      <th></th>\n",
       "      <th></th>\n",
       "      <th></th>\n",
       "      <th></th>\n",
       "      <th></th>\n",
       "      <th></th>\n",
       "      <th></th>\n",
       "      <th></th>\n",
       "      <th></th>\n",
       "      <th></th>\n",
       "      <th></th>\n",
       "      <th></th>\n",
       "      <th></th>\n",
       "    </tr>\n",
       "  </thead>\n",
       "  <tbody>\n",
       "    <tr>\n",
       "      <th>55_0</th>\n",
       "      <td>11254.3</td>\n",
       "      <td>732430.0</td>\n",
       "      <td>39585.8</td>\n",
       "      <td>41526.9</td>\n",
       "      <td>31238.0</td>\n",
       "      <td>4202.71</td>\n",
       "      <td>177775.0</td>\n",
       "      <td>62898.2</td>\n",
       "      <td>333376.0</td>\n",
       "      <td>166850.0</td>\n",
       "      <td>...</td>\n",
       "      <td>9</td>\n",
       "      <td>15</td>\n",
       "      <td>34</td>\n",
       "      <td>41</td>\n",
       "      <td>49</td>\n",
       "      <td>0</td>\n",
       "      <td>0</td>\n",
       "      <td>0</td>\n",
       "      <td>0</td>\n",
       "      <td>0</td>\n",
       "    </tr>\n",
       "    <tr>\n",
       "      <th>55_6</th>\n",
       "      <td>13163.6</td>\n",
       "      <td>630465.0</td>\n",
       "      <td>35220.8</td>\n",
       "      <td>41295.0</td>\n",
       "      <td>26219.9</td>\n",
       "      <td>4416.42</td>\n",
       "      <td>165638.0</td>\n",
       "      <td>62567.5</td>\n",
       "      <td>277833.0</td>\n",
       "      <td>170345.0</td>\n",
       "      <td>...</td>\n",
       "      <td>13</td>\n",
       "      <td>34</td>\n",
       "      <td>41</td>\n",
       "      <td>38</td>\n",
       "      <td>49</td>\n",
       "      <td>0</td>\n",
       "      <td>0</td>\n",
       "      <td>0</td>\n",
       "      <td>0</td>\n",
       "      <td>6</td>\n",
       "    </tr>\n",
       "    <tr>\n",
       "      <th>55_12</th>\n",
       "      <td>15257.6</td>\n",
       "      <td>815083.0</td>\n",
       "      <td>41650.9</td>\n",
       "      <td>39763.3</td>\n",
       "      <td>30703.6</td>\n",
       "      <td>4343.60</td>\n",
       "      <td>151073.0</td>\n",
       "      <td>66963.1</td>\n",
       "      <td>332401.0</td>\n",
       "      <td>151194.0</td>\n",
       "      <td>...</td>\n",
       "      <td>18</td>\n",
       "      <td>41</td>\n",
       "      <td>38</td>\n",
       "      <td>49</td>\n",
       "      <td>51</td>\n",
       "      <td>0</td>\n",
       "      <td>0</td>\n",
       "      <td>0</td>\n",
       "      <td>0</td>\n",
       "      <td>12</td>\n",
       "    </tr>\n",
       "    <tr>\n",
       "      <th>55_18</th>\n",
       "      <td>NaN</td>\n",
       "      <td>NaN</td>\n",
       "      <td>NaN</td>\n",
       "      <td>NaN</td>\n",
       "      <td>NaN</td>\n",
       "      <td>NaN</td>\n",
       "      <td>NaN</td>\n",
       "      <td>NaN</td>\n",
       "      <td>NaN</td>\n",
       "      <td>NaN</td>\n",
       "      <td>...</td>\n",
       "      <td>20</td>\n",
       "      <td>38</td>\n",
       "      <td>49</td>\n",
       "      <td>49</td>\n",
       "      <td>41</td>\n",
       "      <td>0</td>\n",
       "      <td>0</td>\n",
       "      <td>0</td>\n",
       "      <td>0</td>\n",
       "      <td>18</td>\n",
       "    </tr>\n",
       "    <tr>\n",
       "      <th>55_24</th>\n",
       "      <td>NaN</td>\n",
       "      <td>NaN</td>\n",
       "      <td>NaN</td>\n",
       "      <td>NaN</td>\n",
       "      <td>NaN</td>\n",
       "      <td>NaN</td>\n",
       "      <td>NaN</td>\n",
       "      <td>NaN</td>\n",
       "      <td>NaN</td>\n",
       "      <td>NaN</td>\n",
       "      <td>...</td>\n",
       "      <td>16</td>\n",
       "      <td>49</td>\n",
       "      <td>49</td>\n",
       "      <td>51</td>\n",
       "      <td>52</td>\n",
       "      <td>0</td>\n",
       "      <td>0</td>\n",
       "      <td>0</td>\n",
       "      <td>0</td>\n",
       "      <td>24</td>\n",
       "    </tr>\n",
       "  </tbody>\n",
       "</table>\n",
       "<p>5 rows × 244 columns</p>\n",
       "</div>"
      ],
      "text/plain": [
       "           O00391    O00533   O00584   O14498   O14773   O14791    O15240  \\\n",
       "visit_id                                                                    \n",
       "55_0      11254.3  732430.0  39585.8  41526.9  31238.0  4202.71  177775.0   \n",
       "55_6      13163.6  630465.0  35220.8  41295.0  26219.9  4416.42  165638.0   \n",
       "55_12     15257.6  815083.0  41650.9  39763.3  30703.6  4343.60  151073.0   \n",
       "55_18         NaN       NaN      NaN      NaN      NaN      NaN       NaN   \n",
       "55_24         NaN       NaN      NaN      NaN      NaN      NaN       NaN   \n",
       "\n",
       "           O15394    O43505    O60888  ...  updrs_2_plus_24_months  \\\n",
       "visit_id                               ...                           \n",
       "55_0      62898.2  333376.0  166850.0  ...                       9   \n",
       "55_6      62567.5  277833.0  170345.0  ...                      13   \n",
       "55_12     66963.1  332401.0  151194.0  ...                      18   \n",
       "55_18         NaN       NaN       NaN  ...                      20   \n",
       "55_24         NaN       NaN       NaN  ...                      16   \n",
       "\n",
       "          updrs_3_plus_0_months  updrs_3_plus_6_months  \\\n",
       "visit_id                                                 \n",
       "55_0                         15                     34   \n",
       "55_6                         34                     41   \n",
       "55_12                        41                     38   \n",
       "55_18                        38                     49   \n",
       "55_24                        49                     49   \n",
       "\n",
       "          updrs_3_plus_12_months  updrs_3_plus_24_months  \\\n",
       "visit_id                                                   \n",
       "55_0                          41                      49   \n",
       "55_6                          38                      49   \n",
       "55_12                         49                      51   \n",
       "55_18                         49                      41   \n",
       "55_24                         51                      52   \n",
       "\n",
       "          updrs_4_plus_0_months  updrs_4_plus_6_months  \\\n",
       "visit_id                                                 \n",
       "55_0                          0                      0   \n",
       "55_6                          0                      0   \n",
       "55_12                         0                      0   \n",
       "55_18                         0                      0   \n",
       "55_24                         0                      0   \n",
       "\n",
       "          updrs_4_plus_12_months  updrs_4_plus_24_months  visit_month  \n",
       "visit_id                                                               \n",
       "55_0                           0                       0            0  \n",
       "55_6                           0                       0            6  \n",
       "55_12                          0                       0           12  \n",
       "55_18                          0                       0           18  \n",
       "55_24                          0                       0           24  \n",
       "\n",
       "[5 rows x 244 columns]"
      ]
     },
     "execution_count": 13,
     "metadata": {},
     "output_type": "execute_result"
    }
   ],
   "source": [
    "df = protfeatures.merge(formatted_clin, left_index=True,right_index=True,how='right')\n",
    "print(f'\\nNA values: {df[protfeatures.columns].isna().sum().sum()/(len(df)*len(protfeatures.columns)):.2%}')\n",
    "df['visit_month'] = df.reset_index().visit_id.str.split('_').apply(lambda x: int(x[1])).values\n",
    "df.head()"
   ]
  },
  {
   "cell_type": "code",
   "execution_count": 14,
   "id": "aaeb1e85",
   "metadata": {
    "execution": {
     "iopub.execute_input": "2023-05-07T18:44:01.916119Z",
     "iopub.status.busy": "2023-05-07T18:44:01.915847Z",
     "iopub.status.idle": "2023-05-07T18:44:01.923463Z",
     "shell.execute_reply": "2023-05-07T18:44:01.922634Z"
    },
    "papermill": {
     "duration": 0.019999,
     "end_time": "2023-05-07T18:44:01.925372",
     "exception": false,
     "start_time": "2023-05-07T18:44:01.905373",
     "status": "completed"
    },
    "tags": []
   },
   "outputs": [],
   "source": [
    "def extract_month(visit_id):\n",
    "    split_visit_id = visit_id.split('_')\n",
    "    return int(split_visit_id[1])\n",
    "\n",
    "unique_visit_months = df.reset_index().visit_id.apply(extract_month).unique().tolist()\n",
    "protein_list = protfeatures.columns.tolist()\n"
   ]
  },
  {
   "cell_type": "code",
   "execution_count": 15,
   "id": "3206e91d",
   "metadata": {
    "execution": {
     "iopub.execute_input": "2023-05-07T18:44:01.946051Z",
     "iopub.status.busy": "2023-05-07T18:44:01.945782Z",
     "iopub.status.idle": "2023-05-07T18:44:01.956289Z",
     "shell.execute_reply": "2023-05-07T18:44:01.954824Z"
    },
    "papermill": {
     "duration": 0.023871,
     "end_time": "2023-05-07T18:44:01.959020",
     "exception": false,
     "start_time": "2023-05-07T18:44:01.935149",
     "status": "completed"
    },
    "tags": []
   },
   "outputs": [
    {
     "name": "stdout",
     "output_type": "stream",
     "text": [
      "\n",
      "X and y shapes:\n"
     ]
    },
    {
     "data": {
      "text/plain": [
       "((954, 228), (954, 16))"
      ]
     },
     "execution_count": 15,
     "metadata": {},
     "output_type": "execute_result"
    }
   ],
   "source": [
    "X = df[protfeatures.columns.to_list() + [\"visit_month\"]]\n",
    "y = df[formatted_clin.columns]\n",
    "print('\\nX and y shapes:')\n",
    "X.shape, y.shape"
   ]
  },
  {
   "cell_type": "code",
   "execution_count": 16,
   "id": "72173601",
   "metadata": {
    "execution": {
     "iopub.execute_input": "2023-05-07T18:44:01.980243Z",
     "iopub.status.busy": "2023-05-07T18:44:01.979965Z",
     "iopub.status.idle": "2023-05-07T18:44:03.198419Z",
     "shell.execute_reply": "2023-05-07T18:44:03.197233Z"
    },
    "papermill": {
     "duration": 1.232403,
     "end_time": "2023-05-07T18:44:03.201813",
     "exception": false,
     "start_time": "2023-05-07T18:44:01.969410",
     "status": "completed"
    },
    "tags": []
   },
   "outputs": [
    {
     "name": "stderr",
     "output_type": "stream",
     "text": [
      "/tmp/ipykernel_23/3756483888.py:7: SettingWithCopyWarning: \n",
      "A value is trying to be set on a copy of a slice from a DataFrame.\n",
      "Try using .loc[row_indexer,col_indexer] = value instead\n",
      "\n",
      "See the caveats in the documentation: https://pandas.pydata.org/pandas-docs/stable/user_guide/indexing.html#returning-a-view-versus-a-copy\n",
      "  X.loc[:, 'visit_month'] = X['visit_month'].astype(float)\n",
      "/tmp/ipykernel_23/3756483888.py:7: DeprecationWarning: In a future version, `df.iloc[:, i] = newvals` will attempt to set the values inplace instead of always setting a new array. To retain the old behavior, use either `df[df.columns[i]] = newvals` or, if columns are non-unique, `df.isetitem(i, newvals)`\n",
      "  X.loc[:, 'visit_month'] = X['visit_month'].astype(float)\n"
     ]
    }
   ],
   "source": [
    "from sklearn.compose import make_column_transformer\n",
    "from sklearn.impute import KNNImputer\n",
    "from sklearn.preprocessing import StandardScaler\n",
    "from sklearn.compose import ColumnTransformer, make_column_selector\n",
    "from sklearn.pipeline import make_pipeline\n",
    "\n",
    "X.loc[:, 'visit_month'] = X['visit_month'].astype(float)\n",
    "y = y.astype(float)\n",
    "\n",
    "# Define a ColumnTransformer to scale and impute numerical features\n",
    "preprocessor = make_column_transformer(\n",
    "    (make_pipeline(KNNImputer(), StandardScaler()), \n",
    "     make_column_selector(dtype_include='number'))\n",
    ")\n",
    "\n",
    "# Apply the preprocessor to X to obtain the transformed data\n",
    "X_transformed = preprocessor.fit_transform(X)\n"
   ]
  },
  {
   "cell_type": "markdown",
   "id": "6772c6dd",
   "metadata": {
    "papermill": {
     "duration": 0.010096,
     "end_time": "2023-05-07T18:44:03.223810",
     "exception": false,
     "start_time": "2023-05-07T18:44:03.213714",
     "status": "completed"
    },
    "tags": []
   },
   "source": [
    "# sMAPE Function"
   ]
  },
  {
   "cell_type": "code",
   "execution_count": 17,
   "id": "bb78f41f",
   "metadata": {
    "execution": {
     "iopub.execute_input": "2023-05-07T18:44:03.245833Z",
     "iopub.status.busy": "2023-05-07T18:44:03.245516Z",
     "iopub.status.idle": "2023-05-07T18:44:11.428733Z",
     "shell.execute_reply": "2023-05-07T18:44:11.427793Z"
    },
    "papermill": {
     "duration": 8.197342,
     "end_time": "2023-05-07T18:44:11.431227",
     "exception": false,
     "start_time": "2023-05-07T18:44:03.233885",
     "status": "completed"
    },
    "tags": []
   },
   "outputs": [],
   "source": [
    "import tensorflow.keras.backend as K\n",
    "\n",
    "def smape_loss_plus_one(y_true, y_pred):\n",
    "    epsilon = 0.1\n",
    "    numer = K.abs(y_pred + 1 - y_true - 1)\n",
    "    denom = K.maximum(K.abs(y_true) + K.abs(y_pred) + 2*epsilon, 1.5 + 2*epsilon)\n",
    "    smape_plus_one = numer / (denom/2)\n",
    "    smape_plus_one = tf.where(tf.math.is_nan(smape_plus_one), tf.zeros_like(smape_plus_one), smape_plus_one)\n",
    "    return smape_plus_one\n",
    "\n",
    "def calculate_smape_plus_one(y_true, y_pred):\n",
    "    y_true, y_pred = np.array(y_true), np.array(y_pred)\n",
    "    numer = np.round(np.abs(y_pred + 1 - y_true - 1), 0)\n",
    "    denom = np.round(np.abs(y_true) + np.abs(y_pred) + 2, 0)\n",
    "    smape_plus_one = 1/len(y_true) * np.sum(np.nan_to_num(numer / (denom/2))) * 100\n",
    "    return smape_plus_one\n"
   ]
  },
  {
   "cell_type": "markdown",
   "id": "5de46334",
   "metadata": {
    "papermill": {
     "duration": 0.009595,
     "end_time": "2023-05-07T18:44:11.451471",
     "exception": false,
     "start_time": "2023-05-07T18:44:11.441876",
     "status": "completed"
    },
    "tags": []
   },
   "source": [
    "# TensorFlow Model"
   ]
  },
  {
   "cell_type": "code",
   "execution_count": 18,
   "id": "86822dcc",
   "metadata": {
    "execution": {
     "iopub.execute_input": "2023-05-07T18:44:11.472637Z",
     "iopub.status.busy": "2023-05-07T18:44:11.472034Z",
     "iopub.status.idle": "2023-05-07T19:15:59.666053Z",
     "shell.execute_reply": "2023-05-07T19:15:59.660246Z"
    },
    "papermill": {
     "duration": 1908.212807,
     "end_time": "2023-05-07T19:15:59.673988",
     "exception": false,
     "start_time": "2023-05-07T18:44:11.461181",
     "status": "completed"
    },
    "tags": []
   },
   "outputs": [
    {
     "data": {
      "image/png": "[encoded data removed]",
      "text/plain": [
       "<Figure size 1200x500 with 2 Axes>"
      ]
     },
     "metadata": {},
     "output_type": "display_data"
    },
    {
     "name": "stdout",
     "output_type": "stream",
     "text": [
      "Final training loss: 0.6357243657112122\n",
      "Final validation loss: 0.5838157534599304\n"
     ]
    }
   ],
   "source": [
    "import tensorflow as tf\n",
    "from tensorflow.keras.layers import Input\n",
    "from tensorflow.keras.layers import Dense\n",
    "from tensorflow.keras.layers import BatchNormalization\n",
    "from tensorflow.keras.layers import Dropout\n",
    "from tensorflow.keras import Model\n",
    "\n",
    "from tensorflow.keras.layers import Dense, Dropout\n",
    "from tensorflow.keras.models import Sequential\n",
    "from tensorflow.keras import regularizers\n",
    "\n",
    "from tensorflow.keras.layers import Dense, Dropout\n",
    "from tensorflow.keras.models import Sequential\n",
    "from tensorflow.keras import regularizers\n",
    "import tensorflow as tf\n",
    "from tensorflow.keras.layers import Input, LSTM, Dropout\n",
    "from tensorflow.keras.models import Sequential\n",
    "from tensorflow.keras import regularizers\n",
    "\n",
    "\"\"\"model = Sequential()\n",
    "model.add(LSTM(256, input_shape=(X.shape[1], 1), activation='relu', return_sequences=True))\n",
    "model.add(LSTM(32, activation='relu', kernel_regularizer=regularizers.l2(0.01)))\n",
    "model.add(Dropout(0.15))\n",
    "model.add(Dense(y.shape[1], activation='linear'))\n",
    "\n",
    "model.compile(optimizer='adam', loss=smape_loss_plus_one, metrics=[smape_loss_plus_one])\n",
    "\n",
    "# Reshape input data to be suitable for LSTM layers\n",
    "X_transformed = X_transformed.reshape(X_transformed.shape[0], X_transformed.shape[1], 1)\n",
    "\n",
    "history = model.fit(X_transformed, y, epochs=500, batch_size=64, validation_split=.2, verbose=False)\"\"\"\n",
    "\n",
    "import tensorflow as tf\n",
    "from tensorflow.keras.layers import Input, GRU, Dropout\n",
    "from tensorflow.keras.models import Sequential\n",
    "from tensorflow.keras import regularizers\n",
    "\n",
    "model = Sequential()\n",
    "model.add(GRU(128, input_shape=(X.shape[1], 1), activation='relu', return_sequences=True))\n",
    "model.add(Dropout(0.20))\n",
    "model.add(GRU(64, activation='relu', kernel_regularizer=regularizers.l1(0.01), return_sequences=True))\n",
    "model.add(Dropout(0.20))\n",
    "model.add(GRU(32, activation='relu', kernel_regularizer=regularizers.l1(0.01)))\n",
    "model.add(Dropout(0.20))\n",
    "model.add(Dense(y.shape[1], activation='linear'))\n",
    "\n",
    "model.compile(optimizer='adam', loss=smape_loss_plus_one, metrics=[smape_loss_plus_one])\n",
    "\n",
    "# Reshape input data to be suitable for GRU layers\n",
    "X_transformed = X_transformed.reshape(X_transformed.shape[0], X_transformed.shape[1], 1)\n",
    "\n",
    "history = model.fit(X_transformed, y, epochs=100, batch_size=64, validation_split=.2, verbose=False)\n",
    "\n",
    "\n",
    "import matplotlib.pyplot as plt\n",
    "\n",
    "fig, axs = plt.subplots(1, 2, figsize=(12, 5))\n",
    "\n",
    "# Plot training and validation loss\n",
    "axs[0].plot(history.history['loss'])\n",
    "axs[0].plot(history.history['val_loss'])\n",
    "axs[0].set_title('Model Loss')\n",
    "axs[0].set_xlabel('Epoch')\n",
    "axs[0].set_ylabel('Loss')\n",
    "axs[0].legend(['Training', 'Validation'])\n",
    "\n",
    "# Plot training and validation SMAPE+1\n",
    "axs[1].plot(history.history['smape_loss_plus_one'])\n",
    "axs[1].plot(history.history['val_smape_loss_plus_one'])\n",
    "axs[1].set_title('Model SMAPE+1')\n",
    "axs[1].set_xlabel('Epoch')\n",
    "axs[1].set_ylabel('SMAPE+1')\n",
    "axs[1].legend(['Training', 'Validation'])\n",
    "\n",
    "plt.show()\n",
    "\n",
    "# Print the final training and validation loss\n",
    "print('Final training loss:', history.history['loss'][-1])\n",
    "print('Final validation loss:', history.history['val_loss'][-1])\n",
    "\n"
   ]
  },
  {
   "cell_type": "markdown",
   "id": "4849aaf5",
   "metadata": {
    "execution": {
     "iopub.execute_input": "2023-04-27T20:39:49.023941Z",
     "iopub.status.busy": "2023-04-27T20:39:49.023641Z",
     "iopub.status.idle": "2023-04-27T20:39:49.040003Z",
     "shell.execute_reply": "2023-04-27T20:39:49.039086Z"
    },
    "papermill": {
     "duration": 0.010239,
     "end_time": "2023-05-07T19:15:59.694902",
     "exception": false,
     "start_time": "2023-05-07T19:15:59.684663",
     "status": "completed"
    },
    "tags": []
   },
   "source": [
    "import tensorflow.keras.backend as K\n",
    "\n",
    "def smape_loss_plus_one(y_true, y_pred):\n",
    "    epsilon = 0.1\n",
    "    numer = K.abs(y_pred + 1 - y_true - 1)\n",
    "    denom = K.maximum(K.abs(y_true) + K.abs(y_pred) + 2*epsilon, 1.5 + 2*epsilon)\n",
    "    smape_plus_one = numer / (denom/2)\n",
    "    smape_plus_one = tf.where(tf.math.is_nan(smape_plus_one), tf.zeros_like(smape_plus_one), smape_plus_one)\n",
    "    return smape_plus_one\n",
    "\n",
    "model.compile(optimizer='adam', loss=smape_loss_plus_one, metrics=[smape_loss_plus_one])\n",
    "history = model.fit(\n",
    "    X_transformed,\n",
    "    y,\n",
    "    epochs=500,\n",
    "    batch_size=32,\n",
    "    verbose=False,\n",
    "    validation_split=.2\n",
    ")\n",
    "\n",
    "import matplotlib.pyplot as plt\n",
    "\n",
    "fig, axs = plt.subplots(1, 2, figsize=(12, 5))\n",
    "\n",
    "# Plot training and validation loss\n",
    "axs[0].plot(history.history['loss'])\n",
    "axs[0].plot(history.history['val_loss'])\n",
    "axs[0].set_title('Model Loss')\n",
    "axs[0].set_xlabel('Epoch')\n",
    "axs[0].set_ylabel('Loss')\n",
    "axs[0].legend(['Training', 'Validation'])\n",
    "\n",
    "# Plot training and validation SMAPE+1\n",
    "axs[1].plot(history.history['smape_loss_plus_one'])\n",
    "axs[1].plot(history.history['val_smape_loss_plus_one'])\n",
    "axs[1].set_title('Model SMAPE+1')\n",
    "axs[1].set_xlabel('Epoch')\n",
    "axs[1].set_ylabel('SMAPE+1')\n",
    "axs[1].legend(['Training', 'Validation'])\n",
    "\n",
    "plt.show()\n"
   ]
  },
  {
   "cell_type": "markdown",
   "id": "5db4f443",
   "metadata": {
    "execution": {
     "iopub.execute_input": "2023-04-27T20:39:49.067067Z",
     "iopub.status.busy": "2023-04-27T20:39:49.066785Z",
     "iopub.status.idle": "2023-04-27T20:42:12.673549Z",
     "shell.execute_reply": "2023-04-27T20:42:12.672355Z"
    },
    "papermill": {
     "duration": 0.010154,
     "end_time": "2023-05-07T19:15:59.715777",
     "exception": false,
     "start_time": "2023-05-07T19:15:59.705623",
     "status": "completed"
    },
    "tags": []
   },
   "source": [
    "history = model.fit(\n",
    "    X_transformed,\n",
    "    y,\n",
    "    epochs = 800,\n",
    "    verbose = False,\n",
    "    validation_split = .2\n",
    ")\n",
    "pd.DataFrame(history.history).plot()"
   ]
  },
  {
   "cell_type": "markdown",
   "id": "1cc18dfc",
   "metadata": {
    "papermill": {
     "duration": 0.010089,
     "end_time": "2023-05-07T19:15:59.736733",
     "exception": false,
     "start_time": "2023-05-07T19:15:59.726644",
     "status": "completed"
    },
    "tags": []
   },
   "source": [
    "# Submission Preperation"
   ]
  },
  {
   "cell_type": "code",
   "execution_count": 19,
   "id": "fb57b868",
   "metadata": {
    "execution": {
     "iopub.execute_input": "2023-05-07T19:15:59.759593Z",
     "iopub.status.busy": "2023-05-07T19:15:59.758898Z",
     "iopub.status.idle": "2023-05-07T19:15:59.804590Z",
     "shell.execute_reply": "2023-05-07T19:15:59.803783Z"
    },
    "papermill": {
     "duration": 0.05905,
     "end_time": "2023-05-07T19:15:59.806591",
     "exception": false,
     "start_time": "2023-05-07T19:15:59.747541",
     "status": "completed"
    },
    "tags": []
   },
   "outputs": [],
   "source": [
    "test_proteins = pd.read_csv('/kaggle/input/amp-parkinsons-disease-progression-prediction/example_test_files/test_proteins.csv') \n",
    "test_peptides = pd.read_csv('/kaggle/input/amp-parkinsons-disease-progression-prediction/example_test_files/test_peptides.csv') \n",
    "sample_submission = pd.read_csv('/kaggle/input/amp-parkinsons-disease-progression-prediction/example_test_files/sample_submission.csv')\n",
    "clinical = pd.read_csv('/kaggle/input/amp-parkinsons-disease-progression-prediction/example_test_files/test.csv')"
   ]
  },
  {
   "cell_type": "code",
   "execution_count": 20,
   "id": "13fb78eb",
   "metadata": {
    "execution": {
     "iopub.execute_input": "2023-05-07T19:15:59.829402Z",
     "iopub.status.busy": "2023-05-07T19:15:59.828616Z",
     "iopub.status.idle": "2023-05-07T19:15:59.837453Z",
     "shell.execute_reply": "2023-05-07T19:15:59.836586Z"
    },
    "papermill": {
     "duration": 0.02237,
     "end_time": "2023-05-07T19:15:59.839459",
     "exception": false,
     "start_time": "2023-05-07T19:15:59.817089",
     "status": "completed"
    },
    "tags": []
   },
   "outputs": [],
   "source": [
    "def prepare_features(clinical, proteins):\n",
    "    \"\"\"Format features\"\"\"\n",
    "    X_submission = proteins.pivot(index='visit_id',columns='UniProt', values='NPX')\n",
    "    \n",
    "    \n",
    "    missing_visits = np.setdiff1d(np.array(clinical.visit_id.unique()), np.array(X_submission.index)).tolist()\n",
    "    missing_proteins = np.setdiff1d(np.array(protein_list), np.array(X_submission.columns)).tolist()\n",
    "    for mv in missing_visits:\n",
    "        X_submission.loc[mv] = np.NaN\n",
    "    \n",
    "    for mp in missing_proteins:\n",
    "        X_submission.loc[:,mp] = np.NaN\n",
    "        \n",
    "    X_submission = X_submission[protein_list]    \n",
    "    X_submission['visit_month'] = X_submission.reset_index().visit_id.str.split(\"_\").apply(lambda x: int(x[1])).values    \n",
    "    X_submission.visit_month = X_submission.visit_month.astype('float')\n",
    "    \n",
    "    return X_submission\n",
    "def get_predictions(features, model):\n",
    "    \"\"\"Make predictions from prepared features\"\"\"\n",
    "    X_submission_trans = preprocessor.transform(features)\n",
    "    # Predict and format ratings\n",
    "    pred_submission = np.around(np.abs(model.predict(X_submission_trans)),0)\n",
    "    pred_submission = pd.DataFrame(pred_submission, index= features.index, columns = y.columns)\n",
    "    \n",
    "    return pred_submission\n",
    "def format_predictions(predictions, sample_submission):\n",
    "    \"\"\"Format predictions for submission\"\"\"\n",
    "    pred_submission = pd.DataFrame(predictions.stack())\n",
    "\n",
    "    # Map predictions to sample_submission\n",
    "    pred_submission.index = pred_submission.index.map('_'.join)\n",
    "    pred_submission.columns = ['rating']\n",
    "    sample_submission.rating = sample_submission.prediction_id.map(pred_submission.rating)\n",
    "    \n",
    "    return sample_submission.fillna(0)"
   ]
  },
  {
   "cell_type": "code",
   "execution_count": 21,
   "id": "6193a697",
   "metadata": {
    "execution": {
     "iopub.execute_input": "2023-05-07T19:15:59.861764Z",
     "iopub.status.busy": "2023-05-07T19:15:59.861072Z",
     "iopub.status.idle": "2023-05-07T19:16:00.521704Z",
     "shell.execute_reply": "2023-05-07T19:16:00.520765Z"
    },
    "papermill": {
     "duration": 0.674294,
     "end_time": "2023-05-07T19:16:00.524057",
     "exception": false,
     "start_time": "2023-05-07T19:15:59.849763",
     "status": "completed"
    },
    "tags": []
   },
   "outputs": [
    {
     "name": "stdout",
     "output_type": "stream",
     "text": [
      "1/1 [==============================] - 1s 512ms/step\n",
      "                   prediction_id  rating  group_key\n",
      "0   3342_0_updrs_1_plus_0_months     7.0          0\n",
      "1   3342_0_updrs_1_plus_6_months     7.0          0\n",
      "2  3342_0_updrs_1_plus_12_months     7.0          0\n",
      "3  3342_0_updrs_1_plus_24_months     8.0          0\n",
      "4   3342_0_updrs_2_plus_0_months     7.0          0\n"
     ]
    }
   ],
   "source": [
    "# Prepare test features\n",
    "test_features = prepare_features(clinical, test_proteins)\n",
    "\n",
    "# Make predictions for test features\n",
    "test_predictions = get_predictions(test_features, model)\n",
    "\n",
    "# Format predictions for submission\n",
    "test_submission = format_predictions(test_predictions, sample_submission)\n",
    "\n",
    "# Print the first few rows of the submission\n",
    "print(test_submission.head())\n",
    "\n"
   ]
  },
  {
   "cell_type": "code",
   "execution_count": 22,
   "id": "73a95385",
   "metadata": {
    "execution": {
     "iopub.execute_input": "2023-05-07T19:16:00.550322Z",
     "iopub.status.busy": "2023-05-07T19:16:00.549508Z",
     "iopub.status.idle": "2023-05-07T19:16:00.830999Z",
     "shell.execute_reply": "2023-05-07T19:16:00.829955Z"
    },
    "papermill": {
     "duration": 0.296414,
     "end_time": "2023-05-07T19:16:00.833048",
     "exception": false,
     "start_time": "2023-05-07T19:16:00.536634",
     "status": "completed"
    },
    "tags": []
   },
   "outputs": [
    {
     "name": "stdout",
     "output_type": "stream",
     "text": [
      "1/1 [==============================] - 0s 130ms/step\n"
     ]
    },
    {
     "data": {
      "text/html": [
       "<div>\n",
       "<style scoped>\n",
       "    .dataframe tbody tr th:only-of-type {\n",
       "        vertical-align: middle;\n",
       "    }\n",
       "\n",
       "    .dataframe tbody tr th {\n",
       "        vertical-align: top;\n",
       "    }\n",
       "\n",
       "    .dataframe thead th {\n",
       "        text-align: right;\n",
       "    }\n",
       "</style>\n",
       "<table border=\"1\" class=\"dataframe\">\n",
       "  <thead>\n",
       "    <tr style=\"text-align: right;\">\n",
       "      <th></th>\n",
       "      <th>prediction_id</th>\n",
       "      <th>rating</th>\n",
       "      <th>group_key</th>\n",
       "    </tr>\n",
       "  </thead>\n",
       "  <tbody>\n",
       "    <tr>\n",
       "      <th>0</th>\n",
       "      <td>3342_0_updrs_1_plus_0_months</td>\n",
       "      <td>7.0</td>\n",
       "      <td>0</td>\n",
       "    </tr>\n",
       "    <tr>\n",
       "      <th>1</th>\n",
       "      <td>3342_0_updrs_1_plus_6_months</td>\n",
       "      <td>7.0</td>\n",
       "      <td>0</td>\n",
       "    </tr>\n",
       "    <tr>\n",
       "      <th>2</th>\n",
       "      <td>3342_0_updrs_1_plus_12_months</td>\n",
       "      <td>7.0</td>\n",
       "      <td>0</td>\n",
       "    </tr>\n",
       "    <tr>\n",
       "      <th>3</th>\n",
       "      <td>3342_0_updrs_1_plus_24_months</td>\n",
       "      <td>8.0</td>\n",
       "      <td>0</td>\n",
       "    </tr>\n",
       "    <tr>\n",
       "      <th>4</th>\n",
       "      <td>3342_0_updrs_2_plus_0_months</td>\n",
       "      <td>7.0</td>\n",
       "      <td>0</td>\n",
       "    </tr>\n",
       "    <tr>\n",
       "      <th>...</th>\n",
       "      <td>...</td>\n",
       "      <td>...</td>\n",
       "      <td>...</td>\n",
       "    </tr>\n",
       "    <tr>\n",
       "      <th>59</th>\n",
       "      <td>50423_6_updrs_3_plus_24_months</td>\n",
       "      <td>25.0</td>\n",
       "      <td>6</td>\n",
       "    </tr>\n",
       "    <tr>\n",
       "      <th>60</th>\n",
       "      <td>50423_6_updrs_4_plus_0_months</td>\n",
       "      <td>0.0</td>\n",
       "      <td>6</td>\n",
       "    </tr>\n",
       "    <tr>\n",
       "      <th>61</th>\n",
       "      <td>50423_6_updrs_4_plus_6_months</td>\n",
       "      <td>0.0</td>\n",
       "      <td>6</td>\n",
       "    </tr>\n",
       "    <tr>\n",
       "      <th>62</th>\n",
       "      <td>50423_6_updrs_4_plus_12_months</td>\n",
       "      <td>0.0</td>\n",
       "      <td>6</td>\n",
       "    </tr>\n",
       "    <tr>\n",
       "      <th>63</th>\n",
       "      <td>50423_6_updrs_4_plus_24_months</td>\n",
       "      <td>0.0</td>\n",
       "      <td>6</td>\n",
       "    </tr>\n",
       "  </tbody>\n",
       "</table>\n",
       "<p>64 rows × 3 columns</p>\n",
       "</div>"
      ],
      "text/plain": [
       "                     prediction_id  rating  group_key\n",
       "0     3342_0_updrs_1_plus_0_months     7.0          0\n",
       "1     3342_0_updrs_1_plus_6_months     7.0          0\n",
       "2    3342_0_updrs_1_plus_12_months     7.0          0\n",
       "3    3342_0_updrs_1_plus_24_months     8.0          0\n",
       "4     3342_0_updrs_2_plus_0_months     7.0          0\n",
       "..                             ...     ...        ...\n",
       "59  50423_6_updrs_3_plus_24_months    25.0          6\n",
       "60   50423_6_updrs_4_plus_0_months     0.0          6\n",
       "61   50423_6_updrs_4_plus_6_months     0.0          6\n",
       "62  50423_6_updrs_4_plus_12_months     0.0          6\n",
       "63  50423_6_updrs_4_plus_24_months     0.0          6\n",
       "\n",
       "[64 rows x 3 columns]"
      ]
     },
     "execution_count": 22,
     "metadata": {},
     "output_type": "execute_result"
    }
   ],
   "source": [
    "test_features = prepare_features(clinical, test_proteins)\n",
    "test_predictions = get_predictions(test_features,model)\n",
    "test_submission = format_predictions(test_predictions, sample_submission)\n",
    "test_submission"
   ]
  },
  {
   "cell_type": "markdown",
   "id": "57392b3c",
   "metadata": {
    "papermill": {
     "duration": 0.011051,
     "end_time": "2023-05-07T19:16:00.855767",
     "exception": false,
     "start_time": "2023-05-07T19:16:00.844716",
     "status": "completed"
    },
    "tags": []
   },
   "source": [
    "# Submission"
   ]
  },
  {
   "cell_type": "code",
   "execution_count": 23,
   "id": "c7231867",
   "metadata": {
    "execution": {
     "iopub.execute_input": "2023-05-07T19:16:00.879546Z",
     "iopub.status.busy": "2023-05-07T19:16:00.879251Z",
     "iopub.status.idle": "2023-05-07T19:16:00.906164Z",
     "shell.execute_reply": "2023-05-07T19:16:00.905175Z"
    },
    "papermill": {
     "duration": 0.040929,
     "end_time": "2023-05-07T19:16:00.908232",
     "exception": false,
     "start_time": "2023-05-07T19:16:00.867303",
     "status": "completed"
    },
    "tags": []
   },
   "outputs": [],
   "source": [
    "import sys\n",
    "sys.path.append('/kaggle/input/amp-parkinsons-disease-progression-prediction')\n",
    "\n",
    "import amp_pd_peptide_310\n",
    "env = amp_pd_peptide_310.make_env()   # environment provided by competition\n",
    "iter_test = env.iter_test()"
   ]
  },
  {
   "cell_type": "code",
   "execution_count": 24,
   "id": "7d09fe69",
   "metadata": {
    "execution": {
     "iopub.execute_input": "2023-05-07T19:16:00.931455Z",
     "iopub.status.busy": "2023-05-07T19:16:00.931177Z",
     "iopub.status.idle": "2023-05-07T19:16:01.464550Z",
     "shell.execute_reply": "2023-05-07T19:16:01.463693Z"
    },
    "papermill": {
     "duration": 0.547385,
     "end_time": "2023-05-07T19:16:01.466853",
     "exception": false,
     "start_time": "2023-05-07T19:16:00.919468",
     "status": "completed"
    },
    "tags": []
   },
   "outputs": [
    {
     "name": "stdout",
     "output_type": "stream",
     "text": [
      "This version of the API is not optimized and should not be used to estimate the runtime of your code on the hidden test set.\n",
      "1/1 [==============================] - 0s 130ms/step\n",
      "1/1 [==============================] - 0s 127ms/step\n"
     ]
    }
   ],
   "source": [
    "for (test, test_peptides, test_proteins, sample_submission) in iter_test:\n",
    "    sub_features = prepare_features(test, test_proteins)\n",
    "    sub_predictions = get_predictions(sub_features,model)\n",
    "    submission = format_predictions(sub_predictions, sample_submission)\n",
    "\n",
    "    env.predict(submission)"
   ]
  },
  {
   "cell_type": "code",
   "execution_count": 25,
   "id": "0bee4554",
   "metadata": {
    "execution": {
     "iopub.execute_input": "2023-05-07T19:16:01.491303Z",
     "iopub.status.busy": "2023-05-07T19:16:01.490658Z",
     "iopub.status.idle": "2023-05-07T19:16:01.503897Z",
     "shell.execute_reply": "2023-05-07T19:16:01.502920Z"
    },
    "papermill": {
     "duration": 0.027481,
     "end_time": "2023-05-07T19:16:01.506155",
     "exception": false,
     "start_time": "2023-05-07T19:16:01.478674",
     "status": "completed"
    },
    "tags": []
   },
   "outputs": [
    {
     "data": {
      "text/html": [
       "<div>\n",
       "<style scoped>\n",
       "    .dataframe tbody tr th:only-of-type {\n",
       "        vertical-align: middle;\n",
       "    }\n",
       "\n",
       "    .dataframe tbody tr th {\n",
       "        vertical-align: top;\n",
       "    }\n",
       "\n",
       "    .dataframe thead th {\n",
       "        text-align: right;\n",
       "    }\n",
       "</style>\n",
       "<table border=\"1\" class=\"dataframe\">\n",
       "  <thead>\n",
       "    <tr style=\"text-align: right;\">\n",
       "      <th></th>\n",
       "      <th>prediction_id</th>\n",
       "      <th>rating</th>\n",
       "    </tr>\n",
       "  </thead>\n",
       "  <tbody>\n",
       "    <tr>\n",
       "      <th>0</th>\n",
       "      <td>3342_0_updrs_1_plus_0_months</td>\n",
       "      <td>7.0</td>\n",
       "    </tr>\n",
       "    <tr>\n",
       "      <th>1</th>\n",
       "      <td>3342_0_updrs_1_plus_6_months</td>\n",
       "      <td>7.0</td>\n",
       "    </tr>\n",
       "    <tr>\n",
       "      <th>2</th>\n",
       "      <td>3342_0_updrs_1_plus_12_months</td>\n",
       "      <td>7.0</td>\n",
       "    </tr>\n",
       "    <tr>\n",
       "      <th>3</th>\n",
       "      <td>3342_0_updrs_1_plus_24_months</td>\n",
       "      <td>8.0</td>\n",
       "    </tr>\n",
       "    <tr>\n",
       "      <th>4</th>\n",
       "      <td>3342_0_updrs_2_plus_0_months</td>\n",
       "      <td>7.0</td>\n",
       "    </tr>\n",
       "    <tr>\n",
       "      <th>...</th>\n",
       "      <td>...</td>\n",
       "      <td>...</td>\n",
       "    </tr>\n",
       "    <tr>\n",
       "      <th>59</th>\n",
       "      <td>50423_6_updrs_3_plus_24_months</td>\n",
       "      <td>25.0</td>\n",
       "    </tr>\n",
       "    <tr>\n",
       "      <th>60</th>\n",
       "      <td>50423_6_updrs_4_plus_0_months</td>\n",
       "      <td>0.0</td>\n",
       "    </tr>\n",
       "    <tr>\n",
       "      <th>61</th>\n",
       "      <td>50423_6_updrs_4_plus_6_months</td>\n",
       "      <td>0.0</td>\n",
       "    </tr>\n",
       "    <tr>\n",
       "      <th>62</th>\n",
       "      <td>50423_6_updrs_4_plus_12_months</td>\n",
       "      <td>0.0</td>\n",
       "    </tr>\n",
       "    <tr>\n",
       "      <th>63</th>\n",
       "      <td>50423_6_updrs_4_plus_24_months</td>\n",
       "      <td>0.0</td>\n",
       "    </tr>\n",
       "  </tbody>\n",
       "</table>\n",
       "<p>64 rows × 2 columns</p>\n",
       "</div>"
      ],
      "text/plain": [
       "                     prediction_id  rating\n",
       "0     3342_0_updrs_1_plus_0_months     7.0\n",
       "1     3342_0_updrs_1_plus_6_months     7.0\n",
       "2    3342_0_updrs_1_plus_12_months     7.0\n",
       "3    3342_0_updrs_1_plus_24_months     8.0\n",
       "4     3342_0_updrs_2_plus_0_months     7.0\n",
       "..                             ...     ...\n",
       "59  50423_6_updrs_3_plus_24_months    25.0\n",
       "60   50423_6_updrs_4_plus_0_months     0.0\n",
       "61   50423_6_updrs_4_plus_6_months     0.0\n",
       "62  50423_6_updrs_4_plus_12_months     0.0\n",
       "63  50423_6_updrs_4_plus_24_months     0.0\n",
       "\n",
       "[64 rows x 2 columns]"
      ]
     },
     "execution_count": 25,
     "metadata": {},
     "output_type": "execute_result"
    }
   ],
   "source": [
    "pd.read_csv('/kaggle/working/submission.csv')"
   ]
  },
  {
   "cell_type": "code",
   "execution_count": null,
   "id": "645da9b5",
   "metadata": {
    "papermill": {
     "duration": 0.011167,
     "end_time": "2023-05-07T19:16:01.528981",
     "exception": false,
     "start_time": "2023-05-07T19:16:01.517814",
     "status": "completed"
    },
    "tags": []
   },
   "outputs": [],
   "source": []
  },
  {
   "cell_type": "markdown",
   "id": "b261e75c",
   "metadata": {
    "papermill": {
     "duration": 0.011002,
     "end_time": "2023-05-07T19:16:01.551343",
     "exception": false,
     "start_time": "2023-05-07T19:16:01.540341",
     "status": "completed"
    },
    "tags": []
   },
   "source": [
    "https://www.kaggle.com/code/umbertofasci/amp-pdpp-eda-tf-model/notebook#sMAPE-Function"
   ]
  }
 ],
 "metadata": {
  "kernelspec": {
   "display_name": "Python 3",
   "language": "python",
   "name": "python3"
  },
  "language_info": {
   "codemirror_mode": {
    "name": "ipython",
    "version": 3
   },
   "file_extension": ".py",
   "mimetype": "text/x-python",
   "name": "python",
   "nbconvert_exporter": "python",
   "pygments_lexer": "ipython3",
   "version": "3.10.10"
  },
  "papermill": {
   "default_parameters": {},
   "duration": 1962.698449,
   "end_time": "2023-05-07T19:16:05.292336",
   "environment_variables": {},
   "exception": null,
   "input_path": "__notebook__.ipynb",
   "output_path": "__notebook__.ipynb",
   "parameters": {},
   "start_time": "2023-05-07T18:43:22.593887",
   "version": "2.4.0"
  }
 },
 "nbformat": 4,
 "nbformat_minor": 5
}
